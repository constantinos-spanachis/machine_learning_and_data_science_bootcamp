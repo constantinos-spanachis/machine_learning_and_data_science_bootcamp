{
 "cells": [
  {
   "cell_type": "markdown",
   "id": "b53bd3a7",
   "metadata": {},
   "source": [
    "# Numpy Training"
   ]
  },
  {
   "cell_type": "code",
   "execution_count": 1,
   "id": "cca984bd",
   "metadata": {},
   "outputs": [],
   "source": [
    "import numpy as np\n",
    "import pandas as pd"
   ]
  },
  {
   "cell_type": "code",
   "execution_count": 2,
   "id": "af8b4b2a",
   "metadata": {},
   "outputs": [
    {
     "data": {
      "text/plain": [
       "array([1, 2, 3])"
      ]
     },
     "execution_count": 2,
     "metadata": {},
     "output_type": "execute_result"
    }
   ],
   "source": [
    "ar1 = np.array([1,2,3])\n",
    "ar1"
   ]
  },
  {
   "cell_type": "code",
   "execution_count": 3,
   "id": "b74987f5",
   "metadata": {},
   "outputs": [
    {
     "data": {
      "text/plain": [
       "array([[1. , 2. , 3.3],\n",
       "       [4. , 5. , 6.5]])"
      ]
     },
     "execution_count": 3,
     "metadata": {},
     "output_type": "execute_result"
    }
   ],
   "source": [
    "ar2 = np.array([[1,2,3.3],\n",
    "                [4,5,6.5]])\n",
    "ar2"
   ]
  },
  {
   "cell_type": "code",
   "execution_count": 4,
   "id": "b475eeaa",
   "metadata": {},
   "outputs": [
    {
     "data": {
      "text/plain": [
       "array([[[ 1,  2,  3],\n",
       "        [ 4,  5,  6],\n",
       "        [ 7,  8,  9]],\n",
       "\n",
       "       [[10, 11, 12],\n",
       "        [13, 14, 15],\n",
       "        [16, 17, 18]]])"
      ]
     },
     "execution_count": 4,
     "metadata": {},
     "output_type": "execute_result"
    }
   ],
   "source": [
    "ar3 = np.array([[[1,2,3], \n",
    "                 [4,5,6],\n",
    "                 [7,8,9]],\n",
    "                [[10,11,12],\n",
    "                 [13,14,15],\n",
    "                 [16,17,18]]\n",
    "               ])\n",
    "ar3"
   ]
  },
  {
   "cell_type": "markdown",
   "id": "dcbac4b7",
   "metadata": {},
   "source": [
    "## Attributes of Numpy Ndarrays"
   ]
  },
  {
   "cell_type": "code",
   "execution_count": 5,
   "id": "d8e3d1e2",
   "metadata": {},
   "outputs": [
    {
     "name": "stdout",
     "output_type": "stream",
     "text": [
      "Shape of array 1:  (3,)\n",
      "Shape of array 2:  (2, 3)\n",
      "Shape of array 3:  (2, 3, 3)\n",
      "Size of array 1:  3\n",
      "Size of array 2:  6\n",
      "Size of array 3:  18\n",
      "Type of array 1:  <class 'numpy.ndarray'>\n",
      "Type of array 2:  <class 'numpy.ndarray'>\n",
      "Type of array 3:  <class 'numpy.ndarray'>\n",
      "Dimensions of array 1:  1\n",
      "Dimensions of array 2:  2\n",
      "Dimensions of array 3:  3\n"
     ]
    }
   ],
   "source": [
    "print(\"Shape of array 1: \", ar1.shape)\n",
    "print(\"Shape of array 2: \", ar2.shape)\n",
    "print(\"Shape of array 3: \", ar3.shape)\n",
    "print(\"Size of array 1: \", ar1.size)\n",
    "print(\"Size of array 2: \", ar2.size)\n",
    "print(\"Size of array 3: \", ar3.size)\n",
    "print(\"Type of array 1: \", type(ar1))\n",
    "print(\"Type of array 2: \", type(ar2))\n",
    "print(\"Type of array 3: \", type(ar3))\n",
    "print(\"Dimensions of array 1: \", ar1.ndim)\n",
    "print(\"Dimensions of array 2: \", ar2.ndim)\n",
    "print(\"Dimensions of array 3: \", ar3.ndim)"
   ]
  },
  {
   "cell_type": "markdown",
   "id": "af57175a",
   "metadata": {},
   "source": [
    "## Presenting as DataFrames"
   ]
  },
  {
   "cell_type": "code",
   "execution_count": 6,
   "id": "f3c42f7d",
   "metadata": {},
   "outputs": [
    {
     "name": "stdout",
     "output_type": "stream",
     "text": [
      "DataFrame of array 1: \n",
      "   0\n",
      "0  1\n",
      "1  2\n",
      "2  3\n",
      "DataFrame of array 2: \n",
      "     0    1    2\n",
      "0  1.0  2.0  3.3\n",
      "1  4.0  5.0  6.5\n"
     ]
    }
   ],
   "source": [
    "df1 = pd.DataFrame(ar1)\n",
    "df2 = pd.DataFrame(ar2)\n",
    "# df3 = pd.DataFrame(ar3) this will not work, as pandas expects a 2-d object, and we are passing a 3 dimensional array\n",
    "print(\"DataFrame of array 1: \", df1, sep=\"\\n\")\n",
    "print(\"DataFrame of array 2: \", df2, sep=\"\\n\")"
   ]
  },
  {
   "cell_type": "markdown",
   "id": "3364a909",
   "metadata": {},
   "source": [
    "## Creating arrays "
   ]
  },
  {
   "cell_type": "code",
   "execution_count": 7,
   "id": "f357d957",
   "metadata": {},
   "outputs": [
    {
     "data": {
      "text/plain": [
       "array([1, 2, 3])"
      ]
     },
     "execution_count": 7,
     "metadata": {},
     "output_type": "execute_result"
    }
   ],
   "source": [
    "sample_arr = np.array([1,2,3])\n",
    "sample_arr"
   ]
  },
  {
   "cell_type": "code",
   "execution_count": 8,
   "id": "957453ae",
   "metadata": {},
   "outputs": [
    {
     "name": "stdout",
     "output_type": "stream",
     "text": [
      "[[[1. 1. 1. 1. 1.]\n",
      "  [1. 1. 1. 1. 1.]\n",
      "  [1. 1. 1. 1. 1.]]\n",
      "\n",
      " [[1. 1. 1. 1. 1.]\n",
      "  [1. 1. 1. 1. 1.]\n",
      "  [1. 1. 1. 1. 1.]]]\n",
      "Shape of ones:  (2, 3, 5)\n",
      "Size of ones:  30\n",
      "Type of ones:  <class 'numpy.ndarray'>\n"
     ]
    }
   ],
   "source": [
    "ones = np.ones(shape=(2,3,5))\n",
    "print(ones)\n",
    "print(\"Shape of ones: \", ones.shape)\n",
    "print(\"Size of ones: \", ones.size)\n",
    "print(\"Type of ones: \", type(ones))"
   ]
  },
  {
   "cell_type": "code",
   "execution_count": 9,
   "id": "985bbb5d",
   "metadata": {},
   "outputs": [
    {
     "name": "stdout",
     "output_type": "stream",
     "text": [
      "[[0. 0. 0.]]\n",
      "Shape of zeros:  (1, 3)\n",
      "Size of zeros:  3\n",
      "Type of zeros:  <class 'numpy.ndarray'>\n"
     ]
    }
   ],
   "source": [
    "zeros = np.zeros(shape=(1,3))\n",
    "print(zeros)\n",
    "print(\"Shape of zeros: \", zeros.shape)\n",
    "print(\"Size of zeros: \", zeros.size)\n",
    "print(\"Type of zeros: \", type(zeros))"
   ]
  },
  {
   "cell_type": "code",
   "execution_count": 10,
   "id": "916c70c2",
   "metadata": {},
   "outputs": [
    {
     "name": "stdout",
     "output_type": "stream",
     "text": [
      "[0 2 4 6 8]\n",
      "Shape of range_array:  (5,)\n",
      "Size of range_array:  5\n",
      "Type of range_array:  <class 'numpy.ndarray'>\n"
     ]
    }
   ],
   "source": [
    "range_array = np.arange(0, 10, 2)\n",
    "print(range_array)\n",
    "print(\"Shape of range_array: \", range_array.shape)\n",
    "print(\"Size of range_array: \", range_array.size)\n",
    "print(\"Type of range_array: \", type(range_array))"
   ]
  },
  {
   "cell_type": "code",
   "execution_count": 11,
   "id": "fb924411",
   "metadata": {},
   "outputs": [
    {
     "name": "stdout",
     "output_type": "stream",
     "text": [
      "[[1 2 7 3 6]\n",
      " [5 7 9 8 3]\n",
      " [1 9 5 3 9]]\n",
      "Shape of random_array:  (3, 5)\n",
      "Size of random_array:  15\n",
      "Type of random_array:  <class 'numpy.ndarray'>\n"
     ]
    }
   ],
   "source": [
    "random_array = np.random.randint(0, 10, size=(3,5))\n",
    "print(random_array)\n",
    "print(\"Shape of random_array: \", random_array.shape)\n",
    "print(\"Size of random_array: \", random_array.size)\n",
    "print(\"Type of random_array: \", type(random_array))"
   ]
  },
  {
   "cell_type": "code",
   "execution_count": 12,
   "id": "6a8bb1a4",
   "metadata": {},
   "outputs": [
    {
     "name": "stdout",
     "output_type": "stream",
     "text": [
      "[[0.62835559 0.22992    0.37506847]\n",
      " [0.97594614 0.11993168 0.24664994]\n",
      " [0.76588512 0.26450176 0.44323946]\n",
      " [0.41137981 0.04143486 0.25338897]\n",
      " [0.85627746 0.86182126 0.62062799]]\n",
      "Shape of random_array_2:  (5, 3)\n",
      "Size of random_array_2:  15\n",
      "Type of random_array_2:  <class 'numpy.ndarray'>\n"
     ]
    }
   ],
   "source": [
    "random_array_2 = np.random.random((5,3))\n",
    "print(random_array_2)\n",
    "print(\"Shape of random_array_2: \", random_array_2.shape)\n",
    "print(\"Size of random_array_2: \", random_array_2.size)\n",
    "print(\"Type of random_array_2: \", type(random_array_2))"
   ]
  },
  {
   "cell_type": "markdown",
   "id": "2b622d09",
   "metadata": {},
   "source": [
    "## Random Seed\n",
    "\n",
    "Numpy's random numbers are not exactly random. They are pseudo-random, meaning they use an algorithm to be produced, and are not by definition random. This is where the numpy's random seed comes in place. It allows us to store the randomly generated values as static, so that we can share the code with other people and still get the same exact random arrays every time. It allows you to store the random generating information and return it every time. "
   ]
  },
  {
   "cell_type": "code",
   "execution_count": 13,
   "id": "e48c6bb1",
   "metadata": {},
   "outputs": [
    {
     "data": {
      "text/plain": [
       "array([[0.10948715, 0.51902181, 0.76008895],\n",
       "       [0.39855348, 0.6156814 , 0.6986106 ],\n",
       "       [0.62002662, 0.17447356, 0.97597166],\n",
       "       [0.68568408, 0.1246482 , 0.69590807],\n",
       "       [0.45992021, 0.58127831, 0.14506315]])"
      ]
     },
     "execution_count": 13,
     "metadata": {},
     "output_type": "execute_result"
    }
   ],
   "source": [
    "# Example\n",
    "# this will alter the returned values every time you run the cell\n",
    "rand_ar = np.random.random((5,3))\n",
    "rand_ar"
   ]
  },
  {
   "cell_type": "code",
   "execution_count": 14,
   "id": "c0ded5cd",
   "metadata": {},
   "outputs": [
    {
     "name": "stdout",
     "output_type": "stream",
     "text": [
      "[[0.5488135  0.71518937]\n",
      " [0.60276338 0.54488318]\n",
      " [0.4236548  0.64589411]]\n",
      "[[0.43758721 0.891773  ]\n",
      " [0.96366276 0.38344152]\n",
      " [0.79172504 0.52889492]]\n"
     ]
    }
   ],
   "source": [
    "# no matter how many times you run this cell, it will still return the same value for ar_2 and ar_3\n",
    "np.random.seed(0)\n",
    "rand_ar_2 = np.random.random((3,2))\n",
    "print(rand_ar_2)\n",
    "rand_ar_3 = np.random.random((3,2))\n",
    "print(rand_ar_3)"
   ]
  },
  {
   "cell_type": "markdown",
   "id": "ca89c195",
   "metadata": {},
   "source": [
    "## Vieweing Arrays and Matrices"
   ]
  },
  {
   "cell_type": "code",
   "execution_count": 15,
   "id": "13b1eefa",
   "metadata": {},
   "outputs": [
    {
     "data": {
      "text/plain": [
       "array([0.04143486, 0.11993168, 0.22992   , 0.24664994, 0.25338897,\n",
       "       0.26450176, 0.37506847, 0.41137981, 0.44323946, 0.62062799,\n",
       "       0.62835559, 0.76588512, 0.85627746, 0.86182126, 0.97594614])"
      ]
     },
     "execution_count": 15,
     "metadata": {},
     "output_type": "execute_result"
    }
   ],
   "source": [
    "# Finding unique values within an array\n",
    "\n",
    "ar_2_unique = np.unique(random_array_2)\n",
    "ar_2_unique"
   ]
  },
  {
   "cell_type": "code",
   "execution_count": 16,
   "id": "a276fd3a",
   "metadata": {},
   "outputs": [
    {
     "name": "stdout",
     "output_type": "stream",
     "text": [
      "On a 1 dimensional array, the first index is the first value of the array: \n",
      "1\n",
      "On a 2 dimensional array, the zeroth index is the first row: \n",
      "[1.  2.  3.3]\n",
      "On a 3 dimensional array, the zeroth index is the first dimension: \n",
      "[[1 2 3]\n",
      " [4 5 6]\n",
      " [7 8 9]]\n"
     ]
    }
   ],
   "source": [
    "# Slicing\n",
    "\n",
    "print(\"On a 1 dimensional array, the first index is the first value of the array: \", ar1[0], sep=\"\\n\")\n",
    "print(\"On a 2 dimensional array, the zeroth index is the first row: \", ar2[0], sep=\"\\n\")\n",
    "print(\"On a 3 dimensional array, the zeroth index is the first dimension: \", ar3[0], sep=\"\\n\")"
   ]
  },
  {
   "cell_type": "code",
   "execution_count": 17,
   "id": "7d776e26",
   "metadata": {},
   "outputs": [
    {
     "name": "stdout",
     "output_type": "stream",
     "text": [
      "Getting the first 2 values from each dimension: \n",
      "[1 2]\n",
      "Getting the first 2 values from each dimension: \n",
      "[[1. 2.]\n",
      " [4. 5.]]\n",
      "Getting the first 2 values from each dimension: \n",
      "[[[ 1  2]\n",
      "  [ 4  5]]\n",
      "\n",
      " [[10 11]\n",
      "  [13 14]]]\n"
     ]
    }
   ],
   "source": [
    "print(\"Getting the first 2 values from each dimension: \", ar1[:2], sep=\"\\n\")\n",
    "print(\"Getting the first 2 values from each dimension: \", ar2[:2, :2], sep=\"\\n\")\n",
    "print(\"Getting the first 2 values from each dimension: \", ar3[:2, :2, :2], sep=\"\\n\")"
   ]
  },
  {
   "cell_type": "markdown",
   "id": "42673a53",
   "metadata": {},
   "source": [
    "# Arithmetic"
   ]
  },
  {
   "cell_type": "code",
   "execution_count": 18,
   "id": "e403645b",
   "metadata": {},
   "outputs": [
    {
     "data": {
      "text/plain": [
       "array([2., 3., 4.])"
      ]
     },
     "execution_count": 18,
     "metadata": {},
     "output_type": "execute_result"
    }
   ],
   "source": [
    "# addition\n",
    "ones = np.ones(shape=3)\n",
    "ar1 + ones"
   ]
  },
  {
   "cell_type": "code",
   "execution_count": 19,
   "id": "c9d7f429",
   "metadata": {},
   "outputs": [
    {
     "data": {
      "text/plain": [
       "array([0., 1., 2.])"
      ]
     },
     "execution_count": 19,
     "metadata": {},
     "output_type": "execute_result"
    }
   ],
   "source": [
    "# subtraction\n",
    "ar1 - ones"
   ]
  },
  {
   "cell_type": "code",
   "execution_count": 20,
   "id": "0fe0ffb0",
   "metadata": {},
   "outputs": [
    {
     "data": {
      "text/plain": [
       "array([3., 6., 9.])"
      ]
     },
     "execution_count": 20,
     "metadata": {},
     "output_type": "execute_result"
    }
   ],
   "source": [
    "# multiplication\n",
    "\n",
    "ar1 * (ones * 3)"
   ]
  },
  {
   "cell_type": "code",
   "execution_count": 21,
   "id": "2aa6d724",
   "metadata": {},
   "outputs": [
    {
     "data": {
      "text/plain": [
       "array([0.33333333, 0.66666667, 1.        ])"
      ]
     },
     "execution_count": 21,
     "metadata": {},
     "output_type": "execute_result"
    }
   ],
   "source": [
    "# Division\n",
    "\n",
    "ar1 / (ones * 3)"
   ]
  },
  {
   "cell_type": "code",
   "execution_count": 22,
   "id": "11003b14",
   "metadata": {},
   "outputs": [
    {
     "data": {
      "text/plain": [
       "array([0., 0., 1.])"
      ]
     },
     "execution_count": 22,
     "metadata": {},
     "output_type": "execute_result"
    }
   ],
   "source": [
    "# Floor division\n",
    "\n",
    "ar1 // (ones * 3)"
   ]
  },
  {
   "cell_type": "code",
   "execution_count": 23,
   "id": "68681182",
   "metadata": {},
   "outputs": [
    {
     "data": {
      "text/plain": [
       "array([[ 1.  ,  4.  , 10.89],\n",
       "       [16.  , 25.  , 42.25]])"
      ]
     },
     "execution_count": 23,
     "metadata": {},
     "output_type": "execute_result"
    }
   ],
   "source": [
    "# Squares\n",
    "\n",
    "ar2 ** 2"
   ]
  },
  {
   "cell_type": "code",
   "execution_count": 24,
   "id": "4c72fb9c",
   "metadata": {},
   "outputs": [
    {
     "data": {
      "text/plain": [
       "array([[1. , 0. , 1.3],\n",
       "       [0. , 1. , 0.5]])"
      ]
     },
     "execution_count": 24,
     "metadata": {},
     "output_type": "execute_result"
    }
   ],
   "source": [
    "# Modulo - the reminder after a division with a number\n",
    "\n",
    "ar2 % 2"
   ]
  },
  {
   "cell_type": "code",
   "execution_count": 25,
   "id": "e2a392c2",
   "metadata": {},
   "outputs": [
    {
     "data": {
      "text/plain": [
       "array([[125, 159, 224,  91, 105, 167, 176],\n",
       "       [ 70,  93, 112,  47,  44,  82, 101]])"
      ]
     },
     "execution_count": 25,
     "metadata": {},
     "output_type": "execute_result"
    }
   ],
   "source": [
    "# Dot (Needs to be on arrays a1 (M x N) and a2 (N x K). Resulting array will be of shape (M x K))\n",
    "\n",
    "ar_dot_1 = np.random.randint(1, 10, size=(2,5))\n",
    "ar_dot_2 = np.random.randint(1,10, size=(5,7))\n",
    "\n",
    "ar_dot_1.dot(ar_dot_2)"
   ]
  },
  {
   "cell_type": "markdown",
   "id": "b3bbfaa6",
   "metadata": {},
   "source": [
    "### Aggregation\n",
    "\n",
    "Performing the same operation on a number of things"
   ]
  },
  {
   "cell_type": "code",
   "execution_count": 26,
   "id": "f717e973",
   "metadata": {},
   "outputs": [
    {
     "name": "stdout",
     "output_type": "stream",
     "text": [
      "Using sum:  6\n",
      "Using numpy's sum:  6\n"
     ]
    }
   ],
   "source": [
    "# sum\n",
    "\n",
    "print(\"Using sum: \", sum(ar1))\n",
    "print(\"Using numpy's sum: \", np.sum(ar1))"
   ]
  },
  {
   "cell_type": "markdown",
   "id": "e3900c48",
   "metadata": {},
   "source": [
    "-----\n",
    "⚠\n",
    "**Note**: Use numpy functions on numpy objects and python functions on python objects\n",
    "\n",
    "-----"
   ]
  },
  {
   "cell_type": "code",
   "execution_count": 27,
   "id": "567667c8",
   "metadata": {},
   "outputs": [
    {
     "name": "stdout",
     "output_type": "stream",
     "text": [
      "time taken to sum using python's functions\n",
      "8.04 ms ± 451 µs per loop (mean ± std. dev. of 7 runs, 100 loops each)\n",
      "time taken to sum using numpy's functions\n",
      "52.4 µs ± 6.55 µs per loop (mean ± std. dev. of 7 runs, 10000 loops each)\n"
     ]
    }
   ],
   "source": [
    "massive_array = np.random.random(100000)\n",
    "print(\"time taken to sum using python's functions\")\n",
    "%timeit sum(massive_array)\n",
    "print(\"time taken to sum using numpy's functions\")\n",
    "%timeit np.sum(massive_array)"
   ]
  },
  {
   "cell_type": "code",
   "execution_count": 28,
   "id": "ab06495b",
   "metadata": {},
   "outputs": [
    {
     "data": {
      "text/plain": [
       "3.6333333333333333"
      ]
     },
     "execution_count": 28,
     "metadata": {},
     "output_type": "execute_result"
    }
   ],
   "source": [
    "# mean\n",
    "\n",
    "np.mean(ar2)"
   ]
  },
  {
   "cell_type": "code",
   "execution_count": 29,
   "id": "fcbc9efd",
   "metadata": {},
   "outputs": [
    {
     "data": {
      "text/plain": [
       "1.8226964152656422"
      ]
     },
     "execution_count": 29,
     "metadata": {},
     "output_type": "execute_result"
    }
   ],
   "source": [
    "# Standard diviation - how spread out a group of numbers is from the mean ( the square root of variance )\n",
    "\n",
    "np.std(ar2)"
   ]
  },
  {
   "cell_type": "code",
   "execution_count": 30,
   "id": "ac923d03",
   "metadata": {},
   "outputs": [
    {
     "data": {
      "text/plain": [
       "3.3222222222222224"
      ]
     },
     "execution_count": 30,
     "metadata": {},
     "output_type": "execute_result"
    }
   ],
   "source": [
    "# Variance - measure of the average degree to which each number is different to the mean (how spread my numbers are)\n",
    "# High Variance - wider range of numbers\n",
    "# Low Variance - lower range of numbers\n",
    "\n",
    "np.var(ar2)"
   ]
  },
  {
   "cell_type": "code",
   "execution_count": 31,
   "id": "abffe9f8",
   "metadata": {},
   "outputs": [
    {
     "data": {
      "text/plain": [
       "(2000000.0, 11.666666666666666)"
      ]
     },
     "execution_count": 31,
     "metadata": {},
     "output_type": "execute_result"
    }
   ],
   "source": [
    "# Demo of std and var\n",
    "\n",
    "high_var_arr = np.arange(1, 5001, 1000)\n",
    "low_var_arr = np.arange(0, 11, 2)\n",
    "\n",
    "np.var(high_var_arr), np.var(low_var_arr)"
   ]
  },
  {
   "cell_type": "code",
   "execution_count": 32,
   "id": "d3061b85",
   "metadata": {},
   "outputs": [
    {
     "data": {
      "text/plain": [
       "(1414.213562373095, 11.666666666666666)"
      ]
     },
     "execution_count": 32,
     "metadata": {},
     "output_type": "execute_result"
    }
   ],
   "source": [
    "np.std(high_var_arr), np.var(low_var_arr)"
   ]
  },
  {
   "cell_type": "code",
   "execution_count": 33,
   "id": "a732e58a",
   "metadata": {},
   "outputs": [
    {
     "data": {
      "text/plain": [
       "(2001.0, 5.0)"
      ]
     },
     "execution_count": 33,
     "metadata": {},
     "output_type": "execute_result"
    }
   ],
   "source": [
    "np.mean(high_var_arr), np.mean(low_var_arr)"
   ]
  },
  {
   "cell_type": "code",
   "execution_count": 34,
   "id": "979dc967",
   "metadata": {},
   "outputs": [
    {
     "data": {
      "text/plain": [
       "(array([1., 0., 1., 0., 0., 1., 0., 1., 0., 1.]),\n",
       " array([1.000e+00, 4.010e+02, 8.010e+02, 1.201e+03, 1.601e+03, 2.001e+03,\n",
       "        2.401e+03, 2.801e+03, 3.201e+03, 3.601e+03, 4.001e+03]),\n",
       " <BarContainer object of 10 artists>)"
      ]
     },
     "execution_count": 34,
     "metadata": {},
     "output_type": "execute_result"
    },
    {
     "data": {
      "image/png": "[encoded data removed]",
      "text/plain": [
       "<Figure size 432x288 with 1 Axes>"
      ]
     },
     "metadata": {
      "needs_background": "light"
     },
     "output_type": "display_data"
    }
   ],
   "source": [
    "import matplotlib.pyplot as plt\n",
    "\n",
    "plt.hist(high_var_arr)"
   ]
  },
  {
   "cell_type": "code",
   "execution_count": 35,
   "id": "74f51012",
   "metadata": {},
   "outputs": [
    {
     "data": {
      "text/plain": [
       "(array([1., 0., 1., 0., 1., 0., 1., 0., 1., 1.]),\n",
       " array([ 0.,  1.,  2.,  3.,  4.,  5.,  6.,  7.,  8.,  9., 10.]),\n",
       " <BarContainer object of 10 artists>)"
      ]
     },
     "execution_count": 35,
     "metadata": {},
     "output_type": "execute_result"
    },
    {
     "data": {
      "image/png": "[encoded data removed]",
      "text/plain": [
       "<Figure size 432x288 with 1 Axes>"
      ]
     },
     "metadata": {
      "needs_background": "light"
     },
     "output_type": "display_data"
    }
   ],
   "source": [
    "plt.hist(low_var_arr)"
   ]
  },
  {
   "cell_type": "markdown",
   "id": "9727bf89",
   "metadata": {},
   "source": [
    "## Reshaping and Transposing"
   ]
  },
  {
   "cell_type": "code",
   "execution_count": 36,
   "id": "408e07fb",
   "metadata": {},
   "outputs": [
    {
     "ename": "ValueError",
     "evalue": "operands could not be broadcast together with shapes (2,3) (2,3,3) ",
     "output_type": "error",
     "traceback": [
      "\u001b[1;31m---------------------------------------------------------------------------\u001b[0m",
      "\u001b[1;31mValueError\u001b[0m                                Traceback (most recent call last)",
      "\u001b[1;32m<ipython-input-36-a70b097557d1>\u001b[0m in \u001b[0;36m<module>\u001b[1;34m\u001b[0m\n\u001b[1;32m----> 1\u001b[1;33m \u001b[0mar2\u001b[0m \u001b[1;33m*\u001b[0m \u001b[0mar3\u001b[0m\u001b[1;33m\u001b[0m\u001b[1;33m\u001b[0m\u001b[0m\n\u001b[0m",
      "\u001b[1;31mValueError\u001b[0m: operands could not be broadcast together with shapes (2,3) (2,3,3) "
     ]
    }
   ],
   "source": [
    "ar2 * ar3"
   ]
  },
  {
   "cell_type": "code",
   "execution_count": 37,
   "id": "f3a32bd7",
   "metadata": {},
   "outputs": [
    {
     "data": {
      "text/plain": [
       "array([[[  1. ,   2. ,   3. ],\n",
       "        [  8. ,  10. ,  12. ],\n",
       "        [ 23.1,  26.4,  29.7]],\n",
       "\n",
       "       [[ 40. ,  44. ,  48. ],\n",
       "        [ 65. ,  70. ,  75. ],\n",
       "        [104. , 110.5, 117. ]]])"
      ]
     },
     "execution_count": 37,
     "metadata": {},
     "output_type": "execute_result"
    }
   ],
   "source": [
    "ar2.reshape((2,3,1)) * ar3"
   ]
  },
  {
   "cell_type": "code",
   "execution_count": 38,
   "id": "6f5132f8",
   "metadata": {},
   "outputs": [
    {
     "data": {
      "text/plain": [
       "array([[1. , 4. ],\n",
       "       [2. , 5. ],\n",
       "       [3.3, 6.5]])"
      ]
     },
     "execution_count": 38,
     "metadata": {},
     "output_type": "execute_result"
    }
   ],
   "source": [
    "# Transpose\n",
    "\n",
    "ar2.T # switches the axis. "
   ]
  },
  {
   "cell_type": "markdown",
   "id": "116609db",
   "metadata": {},
   "source": [
    "### Dot product example"
   ]
  },
  {
   "cell_type": "code",
   "execution_count": 39,
   "id": "2edb8454",
   "metadata": {},
   "outputs": [
    {
     "data": {
      "text/plain": [
       "array([[12, 15,  0],\n",
       "       [ 3,  3,  7],\n",
       "       [ 9, 19, 18],\n",
       "       [ 4,  6, 12],\n",
       "       [ 1,  6,  7]])"
      ]
     },
     "execution_count": 39,
     "metadata": {},
     "output_type": "execute_result"
    }
   ],
   "source": [
    "np.random.seed(0)\n",
    "sales_amounts = np.random.randint(20, size=(5,3))\n",
    "sales_amounts"
   ]
  },
  {
   "cell_type": "code",
   "execution_count": 40,
   "id": "d3a566c8",
   "metadata": {},
   "outputs": [],
   "source": [
    "weekly_sales = pd.DataFrame(sales_amounts, index=[\"Mon\", \"Tue\", \"Wed\", \"Thu\", \"Fri\"], columns=[\"Almond\", \"Peanut\", \"Cashew\"])"
   ]
  },
  {
   "cell_type": "code",
   "execution_count": 41,
   "id": "1f983274",
   "metadata": {},
   "outputs": [
    {
     "data": {
      "text/html": [
       "<div>\n",
       "<style scoped>\n",
       "    .dataframe tbody tr th:only-of-type {\n",
       "        vertical-align: middle;\n",
       "    }\n",
       "\n",
       "    .dataframe tbody tr th {\n",
       "        vertical-align: top;\n",
       "    }\n",
       "\n",
       "    .dataframe thead th {\n",
       "        text-align: right;\n",
       "    }\n",
       "</style>\n",
       "<table border=\"1\" class=\"dataframe\">\n",
       "  <thead>\n",
       "    <tr style=\"text-align: right;\">\n",
       "      <th></th>\n",
       "      <th>Almond</th>\n",
       "      <th>Peanut</th>\n",
       "      <th>Cashew</th>\n",
       "    </tr>\n",
       "  </thead>\n",
       "  <tbody>\n",
       "    <tr>\n",
       "      <th>Mon</th>\n",
       "      <td>12</td>\n",
       "      <td>15</td>\n",
       "      <td>0</td>\n",
       "    </tr>\n",
       "    <tr>\n",
       "      <th>Tue</th>\n",
       "      <td>3</td>\n",
       "      <td>3</td>\n",
       "      <td>7</td>\n",
       "    </tr>\n",
       "    <tr>\n",
       "      <th>Wed</th>\n",
       "      <td>9</td>\n",
       "      <td>19</td>\n",
       "      <td>18</td>\n",
       "    </tr>\n",
       "    <tr>\n",
       "      <th>Thu</th>\n",
       "      <td>4</td>\n",
       "      <td>6</td>\n",
       "      <td>12</td>\n",
       "    </tr>\n",
       "    <tr>\n",
       "      <th>Fri</th>\n",
       "      <td>1</td>\n",
       "      <td>6</td>\n",
       "      <td>7</td>\n",
       "    </tr>\n",
       "  </tbody>\n",
       "</table>\n",
       "</div>"
      ],
      "text/plain": [
       "     Almond  Peanut  Cashew\n",
       "Mon      12      15       0\n",
       "Tue       3       3       7\n",
       "Wed       9      19      18\n",
       "Thu       4       6      12\n",
       "Fri       1       6       7"
      ]
     },
     "execution_count": 41,
     "metadata": {},
     "output_type": "execute_result"
    }
   ],
   "source": [
    "weekly_sales"
   ]
  },
  {
   "cell_type": "code",
   "execution_count": 42,
   "id": "2a674071",
   "metadata": {},
   "outputs": [],
   "source": [
    "prices = np.array([10, 8, 12]).reshape((1,3))\n",
    "weekly_sales[\"total_daily_cashflow\"] = weekly_sales[[\"Almond\", \"Peanut\", \"Cashew\"]].apply(lambda x: prices.dot(x)[0], axis=1)"
   ]
  },
  {
   "cell_type": "code",
   "execution_count": 43,
   "id": "af5cc1cc",
   "metadata": {},
   "outputs": [
    {
     "data": {
      "text/html": [
       "<div>\n",
       "<style scoped>\n",
       "    .dataframe tbody tr th:only-of-type {\n",
       "        vertical-align: middle;\n",
       "    }\n",
       "\n",
       "    .dataframe tbody tr th {\n",
       "        vertical-align: top;\n",
       "    }\n",
       "\n",
       "    .dataframe thead th {\n",
       "        text-align: right;\n",
       "    }\n",
       "</style>\n",
       "<table border=\"1\" class=\"dataframe\">\n",
       "  <thead>\n",
       "    <tr style=\"text-align: right;\">\n",
       "      <th></th>\n",
       "      <th>Almond</th>\n",
       "      <th>Peanut</th>\n",
       "      <th>Cashew</th>\n",
       "      <th>total_daily_cashflow</th>\n",
       "    </tr>\n",
       "  </thead>\n",
       "  <tbody>\n",
       "    <tr>\n",
       "      <th>Mon</th>\n",
       "      <td>12</td>\n",
       "      <td>15</td>\n",
       "      <td>0</td>\n",
       "      <td>240</td>\n",
       "    </tr>\n",
       "    <tr>\n",
       "      <th>Tue</th>\n",
       "      <td>3</td>\n",
       "      <td>3</td>\n",
       "      <td>7</td>\n",
       "      <td>138</td>\n",
       "    </tr>\n",
       "    <tr>\n",
       "      <th>Wed</th>\n",
       "      <td>9</td>\n",
       "      <td>19</td>\n",
       "      <td>18</td>\n",
       "      <td>458</td>\n",
       "    </tr>\n",
       "    <tr>\n",
       "      <th>Thu</th>\n",
       "      <td>4</td>\n",
       "      <td>6</td>\n",
       "      <td>12</td>\n",
       "      <td>232</td>\n",
       "    </tr>\n",
       "    <tr>\n",
       "      <th>Fri</th>\n",
       "      <td>1</td>\n",
       "      <td>6</td>\n",
       "      <td>7</td>\n",
       "      <td>142</td>\n",
       "    </tr>\n",
       "  </tbody>\n",
       "</table>\n",
       "</div>"
      ],
      "text/plain": [
       "     Almond  Peanut  Cashew  total_daily_cashflow\n",
       "Mon      12      15       0                   240\n",
       "Tue       3       3       7                   138\n",
       "Wed       9      19      18                   458\n",
       "Thu       4       6      12                   232\n",
       "Fri       1       6       7                   142"
      ]
     },
     "execution_count": 43,
     "metadata": {},
     "output_type": "execute_result"
    }
   ],
   "source": [
    "weekly_sales"
   ]
  },
  {
   "cell_type": "markdown",
   "id": "81076fc3",
   "metadata": {},
   "source": [
    "## Comparison Operators"
   ]
  },
  {
   "cell_type": "code",
   "execution_count": 44,
   "id": "5747bb12",
   "metadata": {},
   "outputs": [
    {
     "data": {
      "text/plain": [
       "array([[ True,  True, False],\n",
       "       [False, False, False]])"
      ]
     },
     "execution_count": 44,
     "metadata": {},
     "output_type": "execute_result"
    }
   ],
   "source": [
    "mask = ar1 >= ar2\n",
    "mask"
   ]
  },
  {
   "cell_type": "code",
   "execution_count": 45,
   "id": "5a560362",
   "metadata": {},
   "outputs": [
    {
     "data": {
      "text/plain": [
       "array([[[ True, False, False],\n",
       "        [False, False, False],\n",
       "        [False, False, False]],\n",
       "\n",
       "       [[False, False, False],\n",
       "        [False, False, False],\n",
       "        [False, False, False]]])"
      ]
     },
     "execution_count": 45,
     "metadata": {},
     "output_type": "execute_result"
    }
   ],
   "source": [
    "mask2 = ar2.reshape(2,3,1) >= ar3\n",
    "mask2"
   ]
  },
  {
   "cell_type": "code",
   "execution_count": 46,
   "id": "98f46ff3",
   "metadata": {},
   "outputs": [
    {
     "data": {
      "text/plain": [
       "array([[ True,  True, False],\n",
       "       [False, False, False]])"
      ]
     },
     "execution_count": 46,
     "metadata": {},
     "output_type": "execute_result"
    }
   ],
   "source": [
    "mask3 = ar1 == ar2\n",
    "mask3"
   ]
  },
  {
   "cell_type": "markdown",
   "id": "8f1304e7",
   "metadata": {},
   "source": [
    "## Practical Example - NumPy in action !!"
   ]
  },
  {
   "cell_type": "markdown",
   "id": "c9b9b9b5",
   "metadata": {},
   "source": [
    "<img src=\"./images/panda.jpg\"/>"
   ]
  },
  {
   "cell_type": "code",
   "execution_count": 50,
   "id": "cef1d067",
   "metadata": {},
   "outputs": [
    {
     "data": {
      "text/plain": [
       "array([[[134, 133, 102],\n",
       "        [137, 136, 105],\n",
       "        [139, 138, 107],\n",
       "        ...,\n",
       "        [125, 130,  72],\n",
       "        [123, 128,  70],\n",
       "        [124, 127,  70]],\n",
       "\n",
       "       [[137, 136, 105],\n",
       "        [136, 135, 104],\n",
       "        [135, 134, 103],\n",
       "        ...,\n",
       "        [125, 130,  74],\n",
       "        [124, 129,  73],\n",
       "        [124, 127,  72]],\n",
       "\n",
       "       [[136, 135, 104],\n",
       "        [135, 134, 103],\n",
       "        [135, 134, 103],\n",
       "        ...,\n",
       "        [125, 130,  74],\n",
       "        [124, 129,  73],\n",
       "        [124, 127,  72]],\n",
       "\n",
       "       ...,\n",
       "\n",
       "       [[149, 164, 123],\n",
       "        [149, 164, 123],\n",
       "        [148, 163, 122],\n",
       "        ...,\n",
       "        [ 66,  70,  11],\n",
       "        [ 80,  86,  16],\n",
       "        [ 73,  75,  10]],\n",
       "\n",
       "       [[149, 164, 123],\n",
       "        [149, 164, 123],\n",
       "        [148, 163, 122],\n",
       "        ...,\n",
       "        [ 93,  94,  26],\n",
       "        [111, 112,  32],\n",
       "        [103, 103,  17]],\n",
       "\n",
       "       [[149, 164, 121],\n",
       "        [149, 164, 121],\n",
       "        [148, 163, 120],\n",
       "        ...,\n",
       "        [105, 104,  39],\n",
       "        [112, 106,  32],\n",
       "        [104,  98,  12]]], dtype=uint8)"
      ]
     },
     "execution_count": 50,
     "metadata": {},
     "output_type": "execute_result"
    }
   ],
   "source": [
    "# turn an image into a numpy array\n",
    "from matplotlib.image import imread\n",
    "\n",
    "image = imread(\"./images/panda.jpg\")\n",
    "image"
   ]
  },
  {
   "cell_type": "code",
   "execution_count": 51,
   "id": "ff48c2de",
   "metadata": {},
   "outputs": [
    {
     "data": {
      "text/plain": [
       "(7077888, (1152, 2048, 3), 3, numpy.ndarray)"
      ]
     },
     "execution_count": 51,
     "metadata": {},
     "output_type": "execute_result"
    }
   ],
   "source": [
    "image.size, image.shape, image.ndim, type(image)"
   ]
  },
  {
   "cell_type": "markdown",
   "id": "38f2efe1",
   "metadata": {},
   "source": [
    "<img src=\"./images/numpy_arrays.png\" />"
   ]
  },
  {
   "cell_type": "code",
   "execution_count": 53,
   "id": "f4ad7cc5",
   "metadata": {},
   "outputs": [
    {
     "data": {
      "text/plain": [
       "array([[[1., 1., 1., 1.],\n",
       "        [1., 1., 1., 1.],\n",
       "        [1., 1., 1., 1.],\n",
       "        ...,\n",
       "        [1., 1., 1., 1.],\n",
       "        [1., 1., 1., 1.],\n",
       "        [1., 1., 1., 1.]],\n",
       "\n",
       "       [[1., 1., 1., 1.],\n",
       "        [1., 1., 1., 1.],\n",
       "        [1., 1., 1., 1.],\n",
       "        ...,\n",
       "        [1., 1., 1., 1.],\n",
       "        [1., 1., 1., 1.],\n",
       "        [1., 1., 1., 1.]],\n",
       "\n",
       "       [[1., 1., 1., 1.],\n",
       "        [1., 1., 1., 1.],\n",
       "        [1., 1., 1., 1.],\n",
       "        ...,\n",
       "        [1., 1., 1., 1.],\n",
       "        [1., 1., 1., 1.],\n",
       "        [1., 1., 1., 1.]],\n",
       "\n",
       "       ...,\n",
       "\n",
       "       [[1., 1., 1., 1.],\n",
       "        [1., 1., 1., 1.],\n",
       "        [1., 1., 1., 1.],\n",
       "        ...,\n",
       "        [1., 1., 1., 1.],\n",
       "        [1., 1., 1., 1.],\n",
       "        [1., 1., 1., 1.]],\n",
       "\n",
       "       [[1., 1., 1., 1.],\n",
       "        [1., 1., 1., 1.],\n",
       "        [1., 1., 1., 1.],\n",
       "        ...,\n",
       "        [1., 1., 1., 1.],\n",
       "        [1., 1., 1., 1.],\n",
       "        [1., 1., 1., 1.]],\n",
       "\n",
       "       [[1., 1., 1., 1.],\n",
       "        [1., 1., 1., 1.],\n",
       "        [1., 1., 1., 1.],\n",
       "        ...,\n",
       "        [1., 1., 1., 1.],\n",
       "        [1., 1., 1., 1.],\n",
       "        [1., 1., 1., 1.]]], dtype=float32)"
      ]
     },
     "execution_count": 53,
     "metadata": {},
     "output_type": "execute_result"
    }
   ],
   "source": [
    "image2 = imread(\"./images/numpy_arrays.png\")\n",
    "image2"
   ]
  }
 ],
 "metadata": {
  "kernelspec": {
   "display_name": "Python 3",
   "language": "python",
   "name": "python3"
  },
  "language_info": {
   "codemirror_mode": {
    "name": "ipython",
    "version": 3
   },
   "file_extension": ".py",
   "mimetype": "text/x-python",
   "name": "python",
   "nbconvert_exporter": "python",
   "pygments_lexer": "ipython3",
   "version": "3.9.5"
  }
 },
 "nbformat": 4,
 "nbformat_minor": 5
}
