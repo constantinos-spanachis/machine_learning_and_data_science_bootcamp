{
 "cells": [
  {
   "cell_type": "markdown",
   "id": "4b2a8d7e",
   "metadata": {},
   "source": [
    "# Evaluating the quality of a models prediction\n",
    "\n",
    "Thre ways to evaluate Scikit-Learn models/estimators:\n",
    "\n",
    "1. Estimator `score` method\n",
    "2. The `scoring` parameter\n",
    "3. Problem-specific metric functions\n"
   ]
  },
  {
   "cell_type": "code",
   "execution_count": 2,
   "id": "a98b2c9e",
   "metadata": {},
   "outputs": [],
   "source": [
    "from sklearn.datasets import load_boston\n",
    "from sklearn.linear_model import Ridge\n",
    "from sklearn.model_selection import train_test_split, cross_val_score\n",
    "from sklearn.ensemble import RandomForestRegressor, RandomForestClassifier\n",
    "from sklearn.svm import LinearSVC\n",
    "from sklearn.metrics import accuracy_score, mean_absolute_error, roc_curve, roc_auc_score\n",
    "import pandas as pd\n",
    "import numpy as np\n",
    "import matplotlib.pyplot as plt"
   ]
  },
  {
   "cell_type": "code",
   "execution_count": 3,
   "id": "7b1fbecb",
   "metadata": {},
   "outputs": [
    {
     "data": {
      "text/plain": [
       "RandomForestClassifier()"
      ]
     },
     "execution_count": 3,
     "metadata": {},
     "output_type": "execute_result"
    }
   ],
   "source": [
    "np.random.seed(42)\n",
    "\n",
    "heart_disease = pd.read_csv(r\"C:\\Users\\cos_9\\PycharmProjects\\machine_learning_and_data_science_bootcamp\\resources\\heart-disease.csv\")\n",
    "\n",
    "\n",
    "X = heart_disease.drop(\"target\", axis=1)\n",
    "y = heart_disease.target\n",
    "\n",
    "X_train, X_test, y_train, y_test = train_test_split(X, y, test_size=0.2)\n",
    "\n",
    "model_random_forest_classifier = RandomForestClassifier()\n",
    "\n",
    "model_random_forest_classifier.fit(X_train, y_train)"
   ]
  },
  {
   "cell_type": "markdown",
   "id": "80507ec1",
   "metadata": {},
   "source": [
    "#### Evaluating a model with the score method"
   ]
  },
  {
   "cell_type": "code",
   "execution_count": 4,
   "id": "e0008029",
   "metadata": {},
   "outputs": [
    {
     "name": "stdout",
     "output_type": "stream",
     "text": [
      "Score on the traing data 1.0\n",
      "Score on the test data 0.8524590163934426\n"
     ]
    }
   ],
   "source": [
    "print(f\"Score on the traing data {model_random_forest_classifier.score(X_train, y_train)}\")\n",
    "print(f\"Score on the test data {model_random_forest_classifier.score(X_test, y_test)}\")"
   ]
  },
  {
   "cell_type": "markdown",
   "id": "04ec394e",
   "metadata": {},
   "source": [
    "#### Lets do the same but for Regression"
   ]
  },
  {
   "cell_type": "code",
   "execution_count": 5,
   "id": "38daf61e",
   "metadata": {},
   "outputs": [
    {
     "data": {
      "text/plain": [
       "RandomForestRegressor()"
      ]
     },
     "execution_count": 5,
     "metadata": {},
     "output_type": "execute_result"
    }
   ],
   "source": [
    "model_random_forest_regressor = RandomForestRegressor(n_estimators = 100)\n",
    "\n",
    "model_random_forest_regressor.fit(X_train, y_train)"
   ]
  },
  {
   "cell_type": "code",
   "execution_count": 6,
   "id": "80954b31",
   "metadata": {},
   "outputs": [
    {
     "name": "stdout",
     "output_type": "stream",
     "text": [
      "Score on the traing data 0.9224705249361936\n",
      "Score on the test data 0.5779299568965518\n"
     ]
    }
   ],
   "source": [
    "print(f\"Score on the traing data {model_random_forest_regressor.score(X_train, y_train)}\")\n",
    "print(f\"Score on the test data {model_random_forest_regressor.score(X_test, y_test)}\")"
   ]
  },
  {
   "cell_type": "markdown",
   "id": "baa5c4c5",
   "metadata": {},
   "source": [
    "#### Evaluating a model using the Scoring parameter\n",
    "\n",
    "Evaluating an ML model using cross validation methods. This essentially changes the way that the test/train data get created, and itterates through the different sets, fits the model, and then estimates the accuracy using the test data. "
   ]
  },
  {
   "cell_type": "code",
   "execution_count": 7,
   "id": "ef68992b",
   "metadata": {},
   "outputs": [
    {
     "data": {
      "text/plain": [
       "0.8524590163934426"
      ]
     },
     "execution_count": 7,
     "metadata": {},
     "output_type": "execute_result"
    }
   ],
   "source": [
    "model_random_forest_classifier.score(X_test, y_test)"
   ]
  },
  {
   "cell_type": "code",
   "execution_count": 8,
   "id": "8326c93c",
   "metadata": {},
   "outputs": [
    {
     "name": "stdout",
     "output_type": "stream",
     "text": [
      "0.8524590163934426\n",
      "[0.83606557 0.90163934 0.7704918  0.83333333 0.76666667]\n",
      "0.8216393442622951\n"
     ]
    }
   ],
   "source": [
    "# take the value of single training and test split score\n",
    "\n",
    "scr = model_random_forest_classifier.score(X_test, y_test)\n",
    "\n",
    "print(scr)\n",
    "\n",
    "# take the mean of the test of 5-fold cross prediction.\n",
    "\n",
    "cvs = cross_val_score(model_random_forest_classifier, X, y, cv=5, scoring=None)\n",
    "print(cvs)\n",
    "cvs_mean = np.mean(cvs)\n",
    "\n",
    "print(cvs_mean)"
   ]
  },
  {
   "cell_type": "markdown",
   "id": "bc0c74e4",
   "metadata": {},
   "source": [
    "#### Other importan model evaluation metrics\n",
    "\n",
    "1. Accuracy\n",
    "2. Area under ROC curve\n",
    "3. Confusion matrix\n",
    "4. Classification report"
   ]
  },
  {
   "cell_type": "markdown",
   "id": "bb67b362",
   "metadata": {},
   "source": [
    "#### Accuracy\n",
    "\n",
    "Given a sample of data, how likely is it to estimate the result based on the passed features."
   ]
  },
  {
   "cell_type": "code",
   "execution_count": 9,
   "id": "cf18666f",
   "metadata": {},
   "outputs": [],
   "source": [
    "# Accuracy\n",
    "\n",
    "cvs = cross_val_score(model_random_forest_classifier, X, y, cv=5)\n",
    "\n",
    "mean_cvs = np.mean(cvs)"
   ]
  },
  {
   "cell_type": "code",
   "execution_count": 10,
   "id": "8dd98c16",
   "metadata": {},
   "outputs": [
    {
     "name": "stdout",
     "output_type": "stream",
     "text": [
      "Heart Disease Classifier Cross-Validated Accuracy is: 82.48%\n"
     ]
    }
   ],
   "source": [
    "print(f\"Heart Disease Classifier Cross-Validated Accuracy is: {mean_cvs * 100:.2f}%\")"
   ]
  },
  {
   "cell_type": "markdown",
   "id": "003e65bf",
   "metadata": {},
   "source": []
  },
  {
   "cell_type": "markdown",
   "id": "008011b7",
   "metadata": {},
   "source": [
    "#### Area under Receiver operating charactiristics curve (AUC/ROC)\n",
    "\n",
    "* Area under curve (AUC)\n",
    "* ROC curve\n",
    "\n",
    "ROC curves are a comparison of a model's true positive rate (tpr) versus a models false positive rate (fpr).\n",
    "\n",
    "* True positive - model predicts 1 when truth is 1\n",
    "* False positive - model predicts 1 when truth is 0\n",
    "* True negative - model predicts 0 when truth is 0\n",
    "* False negative - model predicts 0 when truth is 1"
   ]
  },
  {
   "cell_type": "code",
   "execution_count": 11,
   "id": "45ca8d17",
   "metadata": {},
   "outputs": [
    {
     "data": {
      "text/plain": [
       "array([[0.89, 0.11],\n",
       "       [0.49, 0.51],\n",
       "       [0.43, 0.57],\n",
       "       [0.84, 0.16],\n",
       "       [0.18, 0.82],\n",
       "       [0.14, 0.86],\n",
       "       [0.36, 0.64],\n",
       "       [0.95, 0.05],\n",
       "       [0.99, 0.01],\n",
       "       [0.47, 0.53]])"
      ]
     },
     "execution_count": 11,
     "metadata": {},
     "output_type": "execute_result"
    }
   ],
   "source": [
    "y_probs = model_random_forest_classifier.predict_proba(X_test)\n",
    "\n",
    "y_probs[:10]"
   ]
  },
  {
   "cell_type": "code",
   "execution_count": 12,
   "id": "6b7d8eeb",
   "metadata": {},
   "outputs": [
    {
     "data": {
      "text/plain": [
       "array([0.11, 0.51, 0.57, 0.16, 0.82, 0.86, 0.64, 0.05, 0.01, 0.53])"
      ]
     },
     "execution_count": 12,
     "metadata": {},
     "output_type": "execute_result"
    }
   ],
   "source": [
    "y_probs_positive = y_probs[:, 1]\n",
    "y_probs_positive[:10]"
   ]
  },
  {
   "cell_type": "code",
   "execution_count": 13,
   "id": "77818550",
   "metadata": {},
   "outputs": [
    {
     "name": "stdout",
     "output_type": "stream",
     "text": [
      "The fpr was: [0.         0.         0.         0.         0.         0.03448276\n",
      " 0.03448276 0.03448276 0.03448276 0.06896552], the tpr was [0.      0.03125 0.09375 0.375   0.4375  0.4375  0.46875 0.59375 0.6875\n",
      " 0.6875 ], threshold was [2.   1.   0.99 0.83 0.82 0.8  0.78 0.74 0.67 0.66]\n"
     ]
    }
   ],
   "source": [
    "fpr, tpr, thresholds = roc_curve(y_test, y_probs_positive, )\n",
    "\n",
    "print(f\"The fpr was: {fpr[:10]}, the tpr was {tpr[:10]}, threshold was {thresholds[:10]}\")"
   ]
  },
  {
   "cell_type": "code",
   "execution_count": 14,
   "id": "f35a2f11",
   "metadata": {},
   "outputs": [],
   "source": [
    "def roc_curve_pot(fpr, tpr):\n",
    "    \"\"\"Plots ROC curve using false positive rate (fpr) and true positive rate (tpr)\"\"\"\n",
    "  \n",
    "    plt.plot(fpr, tpr, color=\"orange\", label=\"ROC Curve\")\n",
    "    plt.plot([0,1], [0,1], color=\"darkblue\", linestyle = \"--\", label=\"guessing\")\n",
    "    plt.plot([0,0,1], [0,1,1], color=\"darkred\", linestyle='-.', label=\"perfect score\" )\n",
    "    plt.xlabel = \"False Positive Rate\"\n",
    "    plt.ylabel = \"True Positive Rate\"\n",
    "    plt.title =\"Receiver Operating Characteristic (ROC) Curve\"\n",
    "    plt.legend()\n",
    "    plt.show()"
   ]
  },
  {
   "cell_type": "code",
   "execution_count": 15,
   "id": "ef3f8030",
   "metadata": {},
   "outputs": [
    {
     "data": {
      "image/png": "[encoded data removed]",
      "text/plain": [
       "<Figure size 432x288 with 1 Axes>"
      ]
     },
     "metadata": {
      "needs_background": "light"
     },
     "output_type": "display_data"
    }
   ],
   "source": [
    "roc_curve_pot(fpr, tpr)"
   ]
  },
  {
   "cell_type": "code",
   "execution_count": 16,
   "id": "01ebc9a8",
   "metadata": {},
   "outputs": [
    {
     "data": {
      "text/plain": [
       "0.9304956896551724"
      ]
     },
     "execution_count": 16,
     "metadata": {},
     "output_type": "execute_result"
    }
   ],
   "source": [
    "roc_auc_score(y_test, y_probs_positive)"
   ]
  },
  {
   "cell_type": "markdown",
   "id": "078fe2e5",
   "metadata": {},
   "source": [
    "## Confusion matrix\n",
    "\n",
    "A quick way to compare the labels a model predicts and the actual labels it was supposed to predict. \n",
    "In essence, giving you an idea of where the model is getting confused."
   ]
  },
  {
   "cell_type": "code",
   "execution_count": 17,
   "id": "b513fda4",
   "metadata": {},
   "outputs": [],
   "source": [
    "from sklearn.metrics import confusion_matrix\n",
    "\n",
    "y_preds = model_random_forest_classifier.predict(X_test)\n",
    "\n",
    "con_mat = confusion_matrix(y_test, y_preds)"
   ]
  },
  {
   "cell_type": "code",
   "execution_count": 18,
   "id": "610072d3",
   "metadata": {},
   "outputs": [
    {
     "data": {
      "text/html": [
       "<div>\n",
       "<style scoped>\n",
       "    .dataframe tbody tr th:only-of-type {\n",
       "        vertical-align: middle;\n",
       "    }\n",
       "\n",
       "    .dataframe tbody tr th {\n",
       "        vertical-align: top;\n",
       "    }\n",
       "\n",
       "    .dataframe thead th {\n",
       "        text-align: right;\n",
       "    }\n",
       "</style>\n",
       "<table border=\"1\" class=\"dataframe\">\n",
       "  <thead>\n",
       "    <tr style=\"text-align: right;\">\n",
       "      <th>Predicted Labels</th>\n",
       "      <th>0</th>\n",
       "      <th>1</th>\n",
       "    </tr>\n",
       "    <tr>\n",
       "      <th>Actual Labels</th>\n",
       "      <th></th>\n",
       "      <th></th>\n",
       "    </tr>\n",
       "  </thead>\n",
       "  <tbody>\n",
       "    <tr>\n",
       "      <th>0</th>\n",
       "      <td>24</td>\n",
       "      <td>5</td>\n",
       "    </tr>\n",
       "    <tr>\n",
       "      <th>1</th>\n",
       "      <td>4</td>\n",
       "      <td>28</td>\n",
       "    </tr>\n",
       "  </tbody>\n",
       "</table>\n",
       "</div>"
      ],
      "text/plain": [
       "Predicted Labels   0   1\n",
       "Actual Labels           \n",
       "0                 24   5\n",
       "1                  4  28"
      ]
     },
     "execution_count": 18,
     "metadata": {},
     "output_type": "execute_result"
    }
   ],
   "source": [
    "pd.crosstab(y_test, y_preds, rownames=[\"Actual Labels\"], colnames=[\"Predicted Labels\"])"
   ]
  },
  {
   "cell_type": "code",
   "execution_count": 19,
   "id": "cdfad5cd",
   "metadata": {},
   "outputs": [
    {
     "data": {
      "image/png": "[encoded data removed]",
      "text/plain": [
       "<Figure size 432x288 with 2 Axes>"
      ]
     },
     "metadata": {},
     "output_type": "display_data"
    }
   ],
   "source": [
    "# Make our confusion matrix more visual with Seaborn's heatmap\n",
    "import seaborn as sns\n",
    "\n",
    "sns.set(font_scale=1.5)\n",
    "\n",
    "sns.heatmap(con_mat, annot=True);"
   ]
  },
  {
   "cell_type": "code",
   "execution_count": 20,
   "id": "3a80d08a",
   "metadata": {},
   "outputs": [
    {
     "data": {
      "text/plain": [
       "<sklearn.metrics._plot.confusion_matrix.ConfusionMatrixDisplay at 0x2deffa1ff70>"
      ]
     },
     "execution_count": 20,
     "metadata": {},
     "output_type": "execute_result"
    },
    {
     "data": {
      "image/png": "[encoded data removed]",
      "text/plain": [
       "<Figure size 432x288 with 2 Axes>"
      ]
     },
     "metadata": {},
     "output_type": "display_data"
    }
   ],
   "source": [
    "from sklearn.metrics import ConfusionMatrixDisplay\n",
    "\n",
    "ConfusionMatrixDisplay.from_estimator(estimator=model_random_forest_classifier, X=X, y=y)"
   ]
  },
  {
   "cell_type": "markdown",
   "id": "af099a1e",
   "metadata": {},
   "source": [
    "### Classification Report\n"
   ]
  },
  {
   "cell_type": "code",
   "execution_count": 21,
   "id": "4b2ff1aa",
   "metadata": {},
   "outputs": [
    {
     "name": "stdout",
     "output_type": "stream",
     "text": [
      "              precision    recall  f1-score   support\n",
      "\n",
      "           0       0.86      0.83      0.84        29\n",
      "           1       0.85      0.88      0.86        32\n",
      "\n",
      "    accuracy                           0.85        61\n",
      "   macro avg       0.85      0.85      0.85        61\n",
      "weighted avg       0.85      0.85      0.85        61\n",
      "\n"
     ]
    }
   ],
   "source": [
    "from sklearn.metrics import classification_report\n",
    "\n",
    "print(classification_report(y_test, y_preds))"
   ]
  },
  {
   "cell_type": "markdown",
   "id": "1fa6bbb9",
   "metadata": {},
   "source": [
    "## 4.2.2 Regression model evaluation metrics\n",
    "\n",
    "Model evaluation metrics documentation - [link](https://scikit-learn.org/stable/modules/model_evaluation.html#regression-metrics)\n",
    "\n",
    "The ones we are going to cover are:\n",
    "1. R2 (r-squared) or coefficient of determination\n",
    "2. Mean absolute error ( MAE )\n",
    "3. Mean squared error ( MSE )"
   ]
  },
  {
   "cell_type": "code",
   "execution_count": 37,
   "id": "2893cbe1",
   "metadata": {},
   "outputs": [
    {
     "data": {
      "text/plain": [
       "RandomForestRegressor()"
      ]
     },
     "execution_count": 37,
     "metadata": {},
     "output_type": "execute_result"
    }
   ],
   "source": [
    "from sklearn.ensemble import RandomForestRegressor\n",
    "from sklearn.datasets import fetch_california_housing\n",
    "\n",
    "np.random.seed(42)\n",
    "\n",
    "housing_df = fetch_california_housing(as_frame=True)[\"frame\"].rename(columns={\"MedHouseVal\": \"target\"})\n",
    "\n",
    "X = housing_df.drop(\"target\", axis=1)\n",
    "y = housing_df[\"target\"]\n",
    "\n",
    "X_train, X_test, y_train, y_test = train_test_split(X, y, test_size=0.2)\n",
    "\n",
    "model = RandomForestRegressor(n_estimators=100)\n",
    "\n",
    "model.fit(X_train, y_train)"
   ]
  },
  {
   "cell_type": "code",
   "execution_count": 38,
   "id": "b21a306e",
   "metadata": {},
   "outputs": [
    {
     "data": {
      "text/plain": [
       "0.8065734772187598"
      ]
     },
     "execution_count": 38,
     "metadata": {},
     "output_type": "execute_result"
    }
   ],
   "source": [
    "model.score(X_test, y_test)"
   ]
  },
  {
   "cell_type": "code",
   "execution_count": 47,
   "id": "d32f4b68",
   "metadata": {},
   "outputs": [
    {
     "name": "stdout",
     "output_type": "stream",
     "text": [
      "Bad model r2 Scrore:  0.0\n",
      "Perfect model r2 score:  1.0\n"
     ]
    }
   ],
   "source": [
    "from sklearn.metrics import r2_score, mean_absolute_error, mean_squared_error\n",
    "\n",
    "\n",
    "y_test_mean = np.full(len(y_test), y_test.mean())\n",
    "\n",
    "# R2 will be zero if all the predicted values are equal to the mean of our test set\n",
    "print(\"Bad model r2 Scrore: \", r2_score(y_test, y_test_mean))\n",
    "\n",
    "# Perfect R2 score is when the predicted values are equal to the test dataset\n",
    "print(\"Perfect model r2 score: \", r2_score(y_test, y_test))"
   ]
  },
  {
   "cell_type": "markdown",
   "id": "98f19e96",
   "metadata": {},
   "source": [
    "#### Mean absolute error (MAE)\n",
    "\n",
    "The average of the absolute differences between predictions and actual values. It gives us an idea of how wrong your model predictions are."
   ]
  },
  {
   "cell_type": "code",
   "execution_count": 56,
   "id": "236965b1",
   "metadata": {},
   "outputs": [
    {
     "name": "stdout",
     "output_type": "stream",
     "text": [
      "Mean absolute error is:  0.32659871732073664\n",
      "On average each on of the predictions is ±0.327 from the actual values\n"
     ]
    }
   ],
   "source": [
    "y_preds = model.predict(X_test)\n",
    "\n",
    "mae = mean_absolute_error(y_test, y_preds)\n",
    "\n",
    "print(\"Mean absolute error is: \", mae)\n",
    "print(\"On average each on of the predictions is \", u\"\\u00B1\",round(mae, 3), \" from the actual values\", sep=\"\")"
   ]
  },
  {
   "cell_type": "code",
   "execution_count": 63,
   "id": "cc8d068b",
   "metadata": {},
   "outputs": [
    {
     "data": {
      "text/plain": [
       "0.32659871732073803"
      ]
     },
     "execution_count": 63,
     "metadata": {},
     "output_type": "execute_result"
    }
   ],
   "source": [
    "# MAE using formulas rather than the sklearn function\n",
    "df = pd.DataFrame(data = {\"actual\": y_test, \"pred\": y_preds})\n",
    "df[\"differences\"] = df[\"actual\"] - df[\"pred\"]\n",
    "np.abs(df[\"differences\"]).mean()"
   ]
  },
  {
   "cell_type": "markdown",
   "id": "9b5cdbbf",
   "metadata": {},
   "source": [
    "#### Mean squared errors (MSE)\n",
    "\n",
    "Mean of the square of errors between actual and predicted values"
   ]
  },
  {
   "cell_type": "code",
   "execution_count": 64,
   "id": "758082ba",
   "metadata": {},
   "outputs": [
    {
     "name": "stdout",
     "output_type": "stream",
     "text": [
      "Mean squared error is:  0.2534678520824551\n"
     ]
    }
   ],
   "source": [
    "mse = mean_squared_error(y_test, y_preds)\n",
    "\n",
    "print(\"Mean squared error is: \", mse)\n"
   ]
  },
  {
   "cell_type": "code",
   "execution_count": 67,
   "id": "e998103f",
   "metadata": {},
   "outputs": [
    {
     "data": {
      "text/plain": [
       "0.25346785208245565"
      ]
     },
     "execution_count": 67,
     "metadata": {},
     "output_type": "execute_result"
    }
   ],
   "source": [
    "# Calculating the MSE by hand\n",
    "df[\"squared_diff\"] = np.square(df[\"differences\"])\n",
    "df[\"squared_diff\"].mean()"
   ]
  },
  {
   "cell_type": "markdown",
   "id": "cde5d87c",
   "metadata": {},
   "source": [
    "### Machine Learning Model Evaluation\n",
    "Evaluating the results of a machine learning model is as important as building one.\n",
    "\n",
    "But just like how different problems have different machine learning models, different machine learning models have different evaluation metrics.\n",
    "\n",
    "Below are some of the most important evaluation metrics you'll want to look into for classification and regression models.\n",
    "\n",
    "#### 1. Classification Model Evaluation Metrics/Techniques\n",
    "\n",
    "- **Accuracy** - The accuracy of the model in decimal form. Perfect accuracy is equal to 1.0.\n",
    "\n",
    "- **[Precision](https://scikit-learn.org/stable/modules/generated/sklearn.metrics.precision_score.html#sklearn.metrics.precision_score)** - Indicates the proportion of positive identifications (model predicted class 1) which were actually correct. A model which produces no false positives has a precision of 1.0.\n",
    "\n",
    "- **[Recall](https://scikit-learn.org/stable/modules/generated/sklearn.metrics.recall_score.html#sklearn.metrics.recall_score)** - Indicates the proportion of actual positives which were correctly classified. A model which produces no false negatives has a recall of 1.0.\n",
    "\n",
    "- **[F1 score](https://scikit-learn.org/stable/modules/generated/sklearn.metrics.f1_score.html#sklearn.metrics.f1_score)** - A combination of precision and recall. A perfect model achieves an F1 score of 1.0.\n",
    "\n",
    "- **[Confusion matrix](https://www.dataschool.io/simple-guide-to-confusion-matrix-terminology/)** - Compares the predicted values with the true values in a tabular way, if 100% correct, all values in the matrix will be top left to bottom right (diagonal line).\n",
    "\n",
    "- **[Cross-validation](https://scikit-learn.org/stable/modules/cross_validation.html)** - Splits your dataset into multiple parts and train and tests your model on each part then evaluates performance as an average.\n",
    "\n",
    "- **[Classification report](https://scikit-learn.org/stable/modules/generated/sklearn.metrics.classification_report.html)** - Sklearn has a built-in function called classification_report() which returns some of the main classification metrics such as precision, recall and f1-score.\n",
    "\n",
    "- **[ROC Curve](https://scikit-learn.org/stable/modules/generated/sklearn.metrics.roc_score.html)** - Also known as receiver operating characteristic is a plot of true positive rate versus false-positive rate.\n",
    "\n",
    "- **[Area Under Curve (AUC) Score](https://scikit-learn.org/stable/modules/generated/sklearn.metrics.roc_auc_score.html)** - The area underneath the ROC curve. A perfect model achieves an AUC score of 1.0.\n",
    "\n",
    "###### Which classification metric should you use?\n",
    "\n",
    "- Accuracy is a good measure to start with if all classes are balanced (e.g. same amount of samples which are labelled with 0 or 1).\n",
    "\n",
    "- Precision and recall become more important when classes are imbalanced.\n",
    "\n",
    "- If false-positive predictions are worse than false-negatives, aim for higher precision.\n",
    "\n",
    "- If false-negative predictions are worse than false-positives, aim for higher recall.\n",
    "\n",
    "- F1-score is a combination of precision and recall.\n",
    "\n",
    "- A confusion matrix is always a good way to visualize how a classification model is going.\n",
    "\n",
    "#### 2. Regression Model Evaluation Metrics/Techniques\n",
    "\n",
    "- **[R^2](https://scikit-learn.org/stable/modules/generated/sklearn.metrics.r2_score.html) (pronounced r-squared) or the coefficient of determination** - Compares your model's predictions to the mean of the targets. Values can range from negative infinity (a very poor model) to 1. For example, if all your model does is predict the mean of the targets, its R^2 value would be 0. And if your model perfectly predicts a range of numbers it's R^2 value would be 1.\n",
    "\n",
    "- **[Mean absolute error (MAE)](https://scikit-learn.org/stable/modules/generated/sklearn.metrics.mean_absolute_error.html)** - The average of the absolute differences between predictions and actual values. It gives you an idea of how wrong your predictions were.\n",
    "\n",
    "- **[Mean squared error (MSE)](https://scikit-learn.org/stable/modules/generated/sklearn.metrics.mean_squared_error.html)** - The average squared differences between predictions and actual values. Squaring the errors removes negative errors. It also amplifies outliers (samples which have larger errors).\n",
    "\n",
    "##### Which regression metric should you use?\n",
    "\n",
    "- R2 is similar to accuracy. It gives you a quick indication of how well your model might be doing. Generally, the closer your R2 value is to 1.0, the better the model. But it doesn't really tell exactly how wrong your model is in terms of how far off each prediction is.\n",
    "\n",
    "- MAE gives a better indication of how far off each of your model's predictions are on average.\n",
    "\n",
    "- As for MAE or MSE, because of the way MSE is calculated, squaring the differences between predicted values and actual values, it amplifies larger differences. Let's say we're predicting the value of houses (which we are).\n",
    "    - Pay more attention to MAE: When being $10,000 off is twice as bad as being $5,000 off.\n",
    "    - Pay more attention to MSE: When being $10,000 off is more than twice as bad as being $5,000 off.\n",
    "\n",
    "For more resources on evaluating a machine learning model, be sure to check out the following resources:\n",
    "\n",
    "- [Scikit-Learn documentation for metrics and scoring (quantifying the quality of predictions)](https://scikit-learn.org/stable/modules/model_evaluation.html)\n",
    "\n",
    "- [Beyond Accuracy: Precision and Recall by Will Koehrsen](https://towardsdatascience.com/beyond-accuracy-precision-and-recall-3da06bea9f6c)\n",
    "\n",
    "- [Stack Overflow answer describing MSE (mean squared error) and RSME (root mean squared error)](https://stackoverflow.com/a/37861832)\n",
    "\n"
   ]
  },
  {
   "cell_type": "markdown",
   "id": "145e1689",
   "metadata": {},
   "source": [
    "### 4.2.3 Finally using the scoring parameter"
   ]
  },
  {
   "cell_type": "code",
   "execution_count": 69,
   "id": "39fc0bad",
   "metadata": {},
   "outputs": [],
   "source": [
    "from sklearn.ensemble import RandomForestClassifier\n",
    "\n",
    "np.random.seed(42)\n",
    "\n",
    "X = heart_disease.drop(\"target\", axis=1)\n",
    "y = heart_disease[\"target\"]\n",
    "\n",
    "clf = RandomForestClassifier(n_estimators=100)"
   ]
  },
  {
   "cell_type": "code",
   "execution_count": 71,
   "id": "666eda26",
   "metadata": {},
   "outputs": [
    {
     "data": {
      "text/plain": [
       "array([0.81967213, 0.90163934, 0.83606557, 0.78333333, 0.78333333])"
      ]
     },
     "execution_count": 71,
     "metadata": {},
     "output_type": "execute_result"
    }
   ],
   "source": [
    "np.random.seed(42)\n",
    "\n",
    "# Cross-validation accuracy\n",
    "cv_acc = cross_val_score(clf, X, y, cv=5, scoring=None)\n",
    "cv_acc"
   ]
  },
  {
   "cell_type": "code",
   "execution_count": 72,
   "id": "78954844",
   "metadata": {},
   "outputs": [
    {
     "name": "stdout",
     "output_type": "stream",
     "text": [
      "The cross-validated accuracy is: 0.82\n"
     ]
    }
   ],
   "source": [
    "print(f\"The cross-validated accuracy is: {round(np.mean(cv_acc), 2)}\")"
   ]
  },
  {
   "cell_type": "code",
   "execution_count": 76,
   "id": "40b521a6",
   "metadata": {},
   "outputs": [
    {
     "data": {
      "text/plain": [
       "0.8248633879781421"
      ]
     },
     "execution_count": 76,
     "metadata": {},
     "output_type": "execute_result"
    }
   ],
   "source": [
    "cv_acc = cross_val_score(clf, X, y, cv=5, scoring=\"accuracy\")\n",
    "np.mean(cv_acc)"
   ]
  },
  {
   "cell_type": "code",
   "execution_count": 78,
   "id": "aa692438",
   "metadata": {},
   "outputs": [
    {
     "data": {
      "text/plain": [
       "array([0.78947368, 0.90625   , 0.82758621, 0.8125    , 0.76315789])"
      ]
     },
     "execution_count": 78,
     "metadata": {},
     "output_type": "execute_result"
    }
   ],
   "source": [
    "cv_precision = cross_val_score(clf, X, y, cv=5, scoring=\"precision\")\n",
    "cv_precision"
   ]
  },
  {
   "cell_type": "code",
   "execution_count": 81,
   "id": "7c600782",
   "metadata": {},
   "outputs": [
    {
     "name": "stdout",
     "output_type": "stream",
     "text": [
      "The cross-validated precision is: 0.82\n",
      "The best precision is: 0.91\n"
     ]
    }
   ],
   "source": [
    "print(f\"The cross-validated precision is: {round(np.mean(cv_precision), 2)}\")\n",
    "print(f\"The best precision is: {round(np.max(cv_precision), 2)}\")"
   ]
  },
  {
   "cell_type": "code",
   "execution_count": 84,
   "id": "f314a505",
   "metadata": {},
   "outputs": [
    {
     "data": {
      "text/plain": [
       "array([0.81081081, 0.90625   , 0.86666667, 0.82857143, 0.73684211])"
      ]
     },
     "execution_count": 84,
     "metadata": {},
     "output_type": "execute_result"
    }
   ],
   "source": [
    "cv_recall = cross_val_score(clf, X, y, cv=5, scoring=\"precision\")\n",
    "cv_recall"
   ]
  },
  {
   "cell_type": "code",
   "execution_count": 85,
   "id": "5e1c6530",
   "metadata": {},
   "outputs": [
    {
     "name": "stdout",
     "output_type": "stream",
     "text": [
      "The cross-validated recall is: 0.83\n",
      "The best recall is: 0.91\n"
     ]
    }
   ],
   "source": [
    "print(f\"The cross-validated recall is: {round(np.mean(cv_recall), 2)}\")\n",
    "print(f\"The best recall is: {round(np.max(cv_recall), 2)}\")"
   ]
  },
  {
   "cell_type": "markdown",
   "id": "41a456f8",
   "metadata": {},
   "source": [
    "##### Doing the same for a regression model"
   ]
  },
  {
   "cell_type": "code",
   "execution_count": 87,
   "id": "09dbb3f6",
   "metadata": {},
   "outputs": [],
   "source": [
    "from sklearn.ensemble import RandomForestRegressor\n",
    "from sklearn.datasets import fetch_california_housing\n",
    "\n",
    "np.random.seed(42)\n",
    "\n",
    "housing_df = fetch_california_housing(as_frame=True)[\"frame\"].rename(columns={\"MedHouseVal\": \"target\"})\n",
    "\n",
    "X = housing_df.drop(\"target\", axis=1)\n",
    "y = housing_df[\"target\"]\n",
    "\n",
    "X_train, X_test, y_train, y_test = train_test_split(X, y, test_size=0.2)\n",
    "\n",
    "model = RandomForestRegressor(n_estimators=100)"
   ]
  },
  {
   "cell_type": "code",
   "execution_count": 89,
   "id": "7b8482f2",
   "metadata": {},
   "outputs": [
    {
     "data": {
      "text/plain": [
       "array([0.62025478, 0.72620729, 0.61655274])"
      ]
     },
     "execution_count": 89,
     "metadata": {},
     "output_type": "execute_result"
    }
   ],
   "source": [
    "cv_r2 = cross_val_score(model, X, y, cv=3, scoring=None)\n",
    "cv_r2"
   ]
  },
  {
   "cell_type": "code",
   "execution_count": 90,
   "id": "452db4b4",
   "metadata": {},
   "outputs": [
    {
     "name": "stdout",
     "output_type": "stream",
     "text": [
      "The cross-validated r2 is: 0.65\n"
     ]
    }
   ],
   "source": [
    "print(f\"The cross-validated r2 is: {round(np.mean(cv_r2), 2)}\")"
   ]
  },
  {
   "cell_type": "code",
   "execution_count": 95,
   "id": "db75cd47",
   "metadata": {},
   "outputs": [
    {
     "data": {
      "text/plain": [
       "array([-0.52138765, -0.42223996, -0.50635301])"
      ]
     },
     "execution_count": 95,
     "metadata": {},
     "output_type": "execute_result"
    }
   ],
   "source": [
    "cv_mae = cross_val_score(model, X, y, cv=3, scoring=\"neg_mean_absolute_error\")\n",
    "cv_mae"
   ]
  },
  {
   "cell_type": "code",
   "execution_count": 98,
   "id": "eb61b0ff",
   "metadata": {},
   "outputs": [
    {
     "name": "stdout",
     "output_type": "stream",
     "text": [
      "The cross-validated MAE is: -0.48\n"
     ]
    }
   ],
   "source": [
    "print(f\"The cross-validated MAE is: {round(np.mean(cv_mae), 2)}\")"
   ]
  },
  {
   "cell_type": "code",
   "execution_count": 97,
   "id": "d11f1963",
   "metadata": {},
   "outputs": [
    {
     "data": {
      "text/plain": [
       "array([-0.51713027, -0.33045138, -0.54773343])"
      ]
     },
     "execution_count": 97,
     "metadata": {},
     "output_type": "execute_result"
    }
   ],
   "source": [
    "cv_mse = cross_val_score(model, X, y, cv=3, scoring=\"neg_mean_squared_error\")\n",
    "cv_mse"
   ]
  },
  {
   "cell_type": "code",
   "execution_count": 99,
   "id": "c87e0f39",
   "metadata": {},
   "outputs": [
    {
     "name": "stdout",
     "output_type": "stream",
     "text": [
      "The cross-validated MSE is: -0.47\n"
     ]
    }
   ],
   "source": [
    "print(f\"The cross-validated MSE is: {round(np.mean(cv_mse), 2)}\")"
   ]
  },
  {
   "cell_type": "markdown",
   "id": "b3e8b6a0",
   "metadata": {},
   "source": [
    "### 4.3 Using different evaluation metrics as Sckit Learn functions\n",
    "\n",
    "The 3rd way to evaluate scikit learn ML models/estimators is to use the [sklearn.metrics ](https://scikit-learn.org/stable/modules/classes.html#module-sklearn.metrics)"
   ]
  },
  {
   "cell_type": "code",
   "execution_count": 104,
   "id": "747e2ac5",
   "metadata": {},
   "outputs": [
    {
     "name": "stdout",
     "output_type": "stream",
     "text": [
      "Classifier metrics on the test set\n",
      "Accuracy: 0.8\n",
      "Precision: 0.89\n",
      "Recall: 0.74\n",
      "f1_score: 0.81\n"
     ]
    }
   ],
   "source": [
    "from sklearn.metrics import accuracy_score, precision_score, recall_score, f1_score\n",
    "from sklearn.ensemble import RandomForestClassifier\n",
    "from sklearn.model_selection import train_test_split\n",
    "\n",
    "X = heart_disease.drop(\"target\", axis=1)\n",
    "y = heart_disease[\"target\"]\n",
    "\n",
    "X_train, X_test, y_train, y_test = train_test_split(X, y, test_size=0.2)\n",
    "\n",
    "clf = RandomForestClassifier(n_estimators=100)\n",
    "\n",
    "clf.fit(X_train, y_train)\n",
    "\n",
    "y_preds = clf.predict(X_test)\n",
    "\n",
    "print(\"Classifier metrics on the test set\")\n",
    "print(f\"Accuracy: {round(accuracy_score(y_preds, y_test), 2)}\")\n",
    "print(f\"Precision: {round(precision_score(y_preds, y_test), 2)}\")\n",
    "print(f\"Recall: {round(recall_score(y_preds, y_test), 2)}\")\n",
    "print(f\"f1_score: {round(f1_score(y_preds, y_test), 2)}\")"
   ]
  },
  {
   "cell_type": "code",
   "execution_count": 102,
   "id": "b2ee06f7",
   "metadata": {},
   "outputs": [
    {
     "name": "stdout",
     "output_type": "stream",
     "text": [
      "Classifier metrics on the test set\n",
      "R2: 0.73\n",
      "MAE: 0.33\n",
      "MSE: 0.27\n"
     ]
    }
   ],
   "source": [
    "from sklearn.metrics import r2_score, mean_absolute_error, mean_squared_error\n",
    "from sklearn.ensemble import RandomForestRegressor\n",
    "from sklearn.model_selection import train_test_split\n",
    "\n",
    "\n",
    "X = housing_df.drop(\"target\", axis=1)\n",
    "y = housing_df[\"target\"]\n",
    "\n",
    "X_train, X_test, y_train, y_test = train_test_split(X, y, test_size=0.2)\n",
    "\n",
    "model = RandomForestRegressor(n_estimators=100)\n",
    "\n",
    "model.fit(X_train, y_train)\n",
    "\n",
    "y_preds = model.predict(X_test)\n",
    "\n",
    "print(\"Classifier metrics on the test set\")\n",
    "print(f\"R2: {round(r2_score(y_preds, y_test), 2)}\")\n",
    "print(f\"MAE: {round(mean_absolute_error(y_preds, y_test), 2)}\")\n",
    "print(f\"MSE: {round(mean_squared_error(y_preds, y_test), 2)}\")"
   ]
  }
 ],
 "metadata": {
  "kernelspec": {
   "display_name": "Python 3",
   "language": "python",
   "name": "python3"
  },
  "language_info": {
   "codemirror_mode": {
    "name": "ipython",
    "version": 3
   },
   "file_extension": ".py",
   "mimetype": "text/x-python",
   "name": "python",
   "nbconvert_exporter": "python",
   "pygments_lexer": "ipython3",
   "version": "3.9.5"
  }
 },
 "nbformat": 4,
 "nbformat_minor": 5
}
