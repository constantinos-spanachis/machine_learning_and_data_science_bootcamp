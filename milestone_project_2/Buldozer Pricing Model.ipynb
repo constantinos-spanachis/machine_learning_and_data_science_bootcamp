{
 "cells": [
  {
   "cell_type": "markdown",
   "id": "445bdf23",
   "metadata": {},
   "source": [
    "# Milestone project 2: Buldozer Price Regression model\n",
    "\n",
    "In this notbook we're going to go through an example machine learning project with the goal of predicting the sale price of \n",
    "buldozers.\n",
    "\n",
    "## Predcting heart disease using macine learning\n",
    "This notebook looks into using various Python based librariesin an attempt to build a machine learning model capable of predicting whether or not someone has heard disease based on their medical attributes\n",
    "\n",
    "We're going to take the following approach:\n",
    "1. Problem definition\n",
    "2. Data\n",
    "3. Evaluation\n",
    "4. Features\n",
    "5. Modelling\n",
    "6. Experimentation\n",
    "\n",
    "## 1. Problem definition\n",
    "\n",
    "In a statement,\n",
    "> How well can we predict the future sale price o a buldozer, given its characteristics and previous examples of how much similar buldozers have been sold for?\n",
    "\n",
    "## 2. Data\n",
    "\n",
    "The data was downloaded from the Kaggle competition [Bluebook for Buldozers](https://www.kaggle.com/c/bluebook-for-bulldozers)\n",
    "\n",
    "The data for this model is split into three parts:\n",
    "\n",
    "Train.csv is the training set, which contains data through the end of 2011.\n",
    "Valid.csv is the validation set, which contains data from January 1, 2012 - April 30, 2012 You make predictions on this set throughout the majority of the competition. Your score on this set is used to create the public leaderboard.\n",
    "Test.csv is the test set, which won't be released until the last week of the competition. It contains data from May 1, 2012 - November 2012. Your score on the test set determines your final rank for the competition.\n",
    "\n",
    "\n",
    "## 3. Evaluation\n",
    "\n",
    "> The evaluation metric for this competition is the RMSLE (root mean squared log error) between the actual and predicted auction prices.\n",
    "\n",
    "## 4. Featrues\n",
    "\n",
    "This is where you will get different information about the different columns in the dataset\n",
    "\n",
    "- SalesID: the uniue identifier of the sale\n",
    "- MachineID: the unique identifier of a machine.  A machine can be sold multiple times\n",
    "- saleprice: what the machine sold for at auction (only provided in train.csv)\n",
    "- saledate: the date of the sale\n",
    "- There are several fields towards the end of the file on the different options a machine can have.  The descriptions all start with \"machine configuration\" in the data dictionary.  Some product types do not have a particular option, so all the records for that option variable will be null for that product type.  Also, some sources do not provide good option and/or hours data.\n",
    "- The machine_appendix.csv file contains the correct year manufactured for a given machine along with the make, model, and product class details. There is one machine id for every machine in all the competition datasets (training, evaluation, etc.).\n",
    "\n",
    "Check out more [here](https://www.kaggle.com/c/bluebook-for-bulldozers/data)"
   ]
  },
  {
   "cell_type": "code",
   "execution_count": 1,
   "id": "250e0558",
   "metadata": {},
   "outputs": [],
   "source": [
    "import numpy as np\n",
    "import pandas as pd\n",
    "import matplotlib.pyplot as plt\n",
    "import sklearn\n",
    "import seaborn as sns\n",
    "\n",
    "from sklearn.ensemble import RandomForestRegressor"
   ]
  },
  {
   "cell_type": "markdown",
   "id": "b2964ddb",
   "metadata": {},
   "source": [
    "### Parsing dates\n",
    "\n",
    "When working with timeseries data, we want to enrich the time and date component as much as possible\n",
    "\n",
    "We can do this by telling pandas which of our columns has dates in it using the `parse_dates` parameter."
   ]
  },
  {
   "cell_type": "code",
   "execution_count": 2,
   "id": "cdf15bcb",
   "metadata": {},
   "outputs": [],
   "source": [
    "# Importing training and validation sets\n",
    "\n",
    "df = pd.read_csv(\"../resources/bluebook-for-bulldozers/TrainAndValid.csv\", low_memory=False, parse_dates=[\"saledate\"]) # it is a big dataframe"
   ]
  },
  {
   "cell_type": "code",
   "execution_count": 3,
   "id": "ddcd3e5e",
   "metadata": {},
   "outputs": [
    {
     "name": "stdout",
     "output_type": "stream",
     "text": [
      "<class 'pandas.core.frame.DataFrame'>\n",
      "RangeIndex: 412698 entries, 0 to 412697\n",
      "Data columns (total 53 columns):\n",
      " #   Column                    Non-Null Count   Dtype         \n",
      "---  ------                    --------------   -----         \n",
      " 0   SalesID                   412698 non-null  int64         \n",
      " 1   SalePrice                 412698 non-null  float64       \n",
      " 2   MachineID                 412698 non-null  int64         \n",
      " 3   ModelID                   412698 non-null  int64         \n",
      " 4   datasource                412698 non-null  int64         \n",
      " 5   auctioneerID              392562 non-null  float64       \n",
      " 6   YearMade                  412698 non-null  int64         \n",
      " 7   MachineHoursCurrentMeter  147504 non-null  float64       \n",
      " 8   UsageBand                 73670 non-null   object        \n",
      " 9   saledate                  412698 non-null  datetime64[ns]\n",
      " 10  fiModelDesc               412698 non-null  object        \n",
      " 11  fiBaseModel               412698 non-null  object        \n",
      " 12  fiSecondaryDesc           271971 non-null  object        \n",
      " 13  fiModelSeries             58667 non-null   object        \n",
      " 14  fiModelDescriptor         74816 non-null   object        \n",
      " 15  ProductSize               196093 non-null  object        \n",
      " 16  fiProductClassDesc        412698 non-null  object        \n",
      " 17  state                     412698 non-null  object        \n",
      " 18  ProductGroup              412698 non-null  object        \n",
      " 19  ProductGroupDesc          412698 non-null  object        \n",
      " 20  Drive_System              107087 non-null  object        \n",
      " 21  Enclosure                 412364 non-null  object        \n",
      " 22  Forks                     197715 non-null  object        \n",
      " 23  Pad_Type                  81096 non-null   object        \n",
      " 24  Ride_Control              152728 non-null  object        \n",
      " 25  Stick                     81096 non-null   object        \n",
      " 26  Transmission              188007 non-null  object        \n",
      " 27  Turbocharged              81096 non-null   object        \n",
      " 28  Blade_Extension           25983 non-null   object        \n",
      " 29  Blade_Width               25983 non-null   object        \n",
      " 30  Enclosure_Type            25983 non-null   object        \n",
      " 31  Engine_Horsepower         25983 non-null   object        \n",
      " 32  Hydraulics                330133 non-null  object        \n",
      " 33  Pushblock                 25983 non-null   object        \n",
      " 34  Ripper                    106945 non-null  object        \n",
      " 35  Scarifier                 25994 non-null   object        \n",
      " 36  Tip_Control               25983 non-null   object        \n",
      " 37  Tire_Size                 97638 non-null   object        \n",
      " 38  Coupler                   220679 non-null  object        \n",
      " 39  Coupler_System            44974 non-null   object        \n",
      " 40  Grouser_Tracks            44875 non-null   object        \n",
      " 41  Hydraulics_Flow           44875 non-null   object        \n",
      " 42  Track_Type                102193 non-null  object        \n",
      " 43  Undercarriage_Pad_Width   102916 non-null  object        \n",
      " 44  Stick_Length              102261 non-null  object        \n",
      " 45  Thumb                     102332 non-null  object        \n",
      " 46  Pattern_Changer           102261 non-null  object        \n",
      " 47  Grouser_Type              102193 non-null  object        \n",
      " 48  Backhoe_Mounting          80712 non-null   object        \n",
      " 49  Blade_Type                81875 non-null   object        \n",
      " 50  Travel_Controls           81877 non-null   object        \n",
      " 51  Differential_Type         71564 non-null   object        \n",
      " 52  Steering_Controls         71522 non-null   object        \n",
      "dtypes: datetime64[ns](1), float64(3), int64(5), object(44)\n",
      "memory usage: 166.9+ MB\n"
     ]
    }
   ],
   "source": [
    "df.info()"
   ]
  },
  {
   "cell_type": "code",
   "execution_count": 4,
   "id": "2dd80ad8",
   "metadata": {},
   "outputs": [
    {
     "data": {
      "text/plain": [
       "SalesID                          0\n",
       "SalePrice                        0\n",
       "MachineID                        0\n",
       "ModelID                          0\n",
       "datasource                       0\n",
       "auctioneerID                 20136\n",
       "YearMade                         0\n",
       "MachineHoursCurrentMeter    265194\n",
       "UsageBand                   339028\n",
       "saledate                         0\n",
       "fiModelDesc                      0\n",
       "fiBaseModel                      0\n",
       "fiSecondaryDesc             140727\n",
       "fiModelSeries               354031\n",
       "fiModelDescriptor           337882\n",
       "ProductSize                 216605\n",
       "fiProductClassDesc               0\n",
       "state                            0\n",
       "ProductGroup                     0\n",
       "ProductGroupDesc                 0\n",
       "Drive_System                305611\n",
       "Enclosure                      334\n",
       "Forks                       214983\n",
       "Pad_Type                    331602\n",
       "Ride_Control                259970\n",
       "Stick                       331602\n",
       "Transmission                224691\n",
       "Turbocharged                331602\n",
       "Blade_Extension             386715\n",
       "Blade_Width                 386715\n",
       "Enclosure_Type              386715\n",
       "Engine_Horsepower           386715\n",
       "Hydraulics                   82565\n",
       "Pushblock                   386715\n",
       "Ripper                      305753\n",
       "Scarifier                   386704\n",
       "Tip_Control                 386715\n",
       "Tire_Size                   315060\n",
       "Coupler                     192019\n",
       "Coupler_System              367724\n",
       "Grouser_Tracks              367823\n",
       "Hydraulics_Flow             367823\n",
       "Track_Type                  310505\n",
       "Undercarriage_Pad_Width     309782\n",
       "Stick_Length                310437\n",
       "Thumb                       310366\n",
       "Pattern_Changer             310437\n",
       "Grouser_Type                310505\n",
       "Backhoe_Mounting            331986\n",
       "Blade_Type                  330823\n",
       "Travel_Controls             330821\n",
       "Differential_Type           341134\n",
       "Steering_Controls           341176\n",
       "dtype: int64"
      ]
     },
     "execution_count": 4,
     "metadata": {},
     "output_type": "execute_result"
    }
   ],
   "source": [
    "df.isna().sum()"
   ]
  },
  {
   "cell_type": "code",
   "execution_count": 5,
   "id": "5de84671",
   "metadata": {},
   "outputs": [
    {
     "data": {
      "text/plain": [
       "<matplotlib.collections.PathCollection at 0x23f806dc640>"
      ]
     },
     "execution_count": 5,
     "metadata": {},
     "output_type": "execute_result"
    },
    {
     "data": {
      "image/png": "[encoded data removed]",
      "text/plain": [
       "<Figure size 432x288 with 1 Axes>"
      ]
     },
     "metadata": {
      "needs_background": "light"
     },
     "output_type": "display_data"
    }
   ],
   "source": [
    "fig, ax = plt.subplots()\n",
    "ax.scatter(df.loc[:1000, \"saledate\"], df.loc[:1000, \"SalePrice\"])"
   ]
  },
  {
   "cell_type": "code",
   "execution_count": 6,
   "id": "15983400",
   "metadata": {},
   "outputs": [
    {
     "data": {
      "text/plain": [
       "<AxesSubplot:ylabel='Frequency'>"
      ]
     },
     "execution_count": 6,
     "metadata": {},
     "output_type": "execute_result"
    },
    {
     "data": {
      "image/png": "[encoded data removed]",
      "text/plain": [
       "<Figure size 432x288 with 1 Axes>"
      ]
     },
     "metadata": {
      "needs_background": "light"
     },
     "output_type": "display_data"
    }
   ],
   "source": [
    "df.SalePrice.plot.hist()"
   ]
  },
  {
   "cell_type": "code",
   "execution_count": 7,
   "id": "3033c1fb",
   "metadata": {},
   "outputs": [],
   "source": [
    "# Sorting the dataframe in date order\n",
    "\n",
    "df.sort_values(by=\"saledate\", inplace=True, ascending=True)"
   ]
  },
  {
   "cell_type": "code",
   "execution_count": 8,
   "id": "3e631da6",
   "metadata": {},
   "outputs": [],
   "source": [
    "### Make a copy of the original DataFrame\n",
    "df_tmp = df.copy()"
   ]
  },
  {
   "cell_type": "markdown",
   "id": "16bf81b2",
   "metadata": {},
   "source": [
    "### Feature Engineering"
   ]
  },
  {
   "cell_type": "code",
   "execution_count": 9,
   "id": "2034db04",
   "metadata": {},
   "outputs": [],
   "source": [
    "df_tmp[\"saleYear\"] = df_tmp.saledate.dt.year\n",
    "df_tmp[\"saleMonth\"] = df_tmp.saledate.dt.month\n",
    "df_tmp[\"saleDay\"] = df_tmp.saledate.dt.day\n",
    "df_tmp[\"saleDayOfWeek\"] = df_tmp.saledate.dt.dayofweek\n",
    "df_tmp[\"saleDayOfYear\"] = df_tmp.saledate.dt.dayofyear"
   ]
  },
  {
   "cell_type": "code",
   "execution_count": 10,
   "id": "3174cd1f",
   "metadata": {},
   "outputs": [],
   "source": [
    "# Now we've enriched the dataframe with date time features we'll remove the date column\n",
    "df_tmp.drop(\"saledate\", inplace=True, axis=1)"
   ]
  },
  {
   "cell_type": "markdown",
   "id": "e9b548e1",
   "metadata": {},
   "source": [
    "## 5. Modelling\n",
    "\n",
    "We've done enough EDA (we could do more). Now we'll do some modelling."
   ]
  },
  {
   "cell_type": "code",
   "execution_count": 11,
   "id": "e3e47a04",
   "metadata": {},
   "outputs": [],
   "source": [
    "model = RandomForestRegressor(n_jobs=-1, random_state=42)"
   ]
  },
  {
   "cell_type": "markdown",
   "id": "79189285",
   "metadata": {},
   "source": [
    "### Convert strings to categories\n",
    "\n",
    "One way we can turn all our data into numbers is by turning them into pandas categories. We can check different datatypes compatible with pandas [here](https://pandas.pydata.org/docs/reference/general_utility_functions.html#data-types-related-functionality)."
   ]
  },
  {
   "cell_type": "code",
   "execution_count": 12,
   "id": "7e33f5b4",
   "metadata": {},
   "outputs": [],
   "source": [
    "# Find all the columns which contain strings\n",
    "for label, content in df_tmp.items():\n",
    "    if pd.api.types.is_string_dtype(content):\n",
    "        df_tmp[label] = content.astype(\"category\").cat.as_ordered()"
   ]
  },
  {
   "cell_type": "markdown",
   "id": "51e865ef",
   "metadata": {},
   "source": [
    "Thanks to pandas categories we now have a way to access all our data in the form of numbers.\n",
    "\n",
    "But we still have a lot of null values."
   ]
  },
  {
   "cell_type": "markdown",
   "id": "3df5a456",
   "metadata": {},
   "source": [
    "## Filling missing values"
   ]
  },
  {
   "cell_type": "code",
   "execution_count": 13,
   "id": "008b61f7",
   "metadata": {},
   "outputs": [
    {
     "name": "stdout",
     "output_type": "stream",
     "text": [
      "auctioneerID\n",
      "MachineHoursCurrentMeter\n"
     ]
    }
   ],
   "source": [
    "for label, content in df_tmp.items():\n",
    "    if pd.api.types.is_numeric_dtype(content):\n",
    "        if pd.isnull(content).sum():\n",
    "            print(label)\n",
    "            df_tmp[label + \"_is_missing\"] = pd.isnull(content)\n",
    "            df_tmp[label] = content.fillna(content.median()) "
   ]
  },
  {
   "cell_type": "code",
   "execution_count": 14,
   "id": "d0a66466",
   "metadata": {},
   "outputs": [
    {
     "name": "stdout",
     "output_type": "stream",
     "text": [
      "UsageBand\n",
      "fiSecondaryDesc\n",
      "fiModelSeries\n",
      "fiModelDescriptor\n",
      "ProductSize\n",
      "Drive_System\n",
      "Enclosure\n",
      "Forks\n",
      "Pad_Type\n",
      "Ride_Control\n",
      "Stick\n",
      "Transmission\n",
      "Turbocharged\n",
      "Blade_Extension\n",
      "Blade_Width\n",
      "Enclosure_Type\n",
      "Engine_Horsepower\n",
      "Hydraulics\n",
      "Pushblock\n",
      "Ripper\n",
      "Scarifier\n",
      "Tip_Control\n",
      "Tire_Size\n",
      "Coupler\n",
      "Coupler_System\n",
      "Grouser_Tracks\n",
      "Hydraulics_Flow\n",
      "Track_Type\n",
      "Undercarriage_Pad_Width\n",
      "Stick_Length\n",
      "Thumb\n",
      "Pattern_Changer\n",
      "Grouser_Type\n",
      "Backhoe_Mounting\n",
      "Blade_Type\n",
      "Travel_Controls\n",
      "Differential_Type\n",
      "Steering_Controls\n"
     ]
    }
   ],
   "source": [
    "# Turn categorical values into numbers and then fill missing.\n",
    "for label, content in df_tmp.items():\n",
    "    if not pd.api.types.is_numeric_dtype(content):\n",
    "        if pd.isnull(content).sum():\n",
    "            print(label)\n",
    "            df_tmp[label + \"_is_missing\"] = pd.isnull(content)\n",
    "        df_tmp[label] = pd.Categorical(content).codes + 1"
   ]
  },
  {
   "cell_type": "code",
   "execution_count": 15,
   "id": "bf1e918e",
   "metadata": {},
   "outputs": [
    {
     "name": "stdout",
     "output_type": "stream",
     "text": [
      "Wall time: 0 ns\n"
     ]
    }
   ],
   "source": [
    "%%time\n",
    "\n",
    "# Fit the model\n",
    "# model.fit(df_tmp.drop(\"SalePrice\", axis=1), df[\"SalePrice\"])"
   ]
  },
  {
   "cell_type": "code",
   "execution_count": 16,
   "id": "06219043",
   "metadata": {},
   "outputs": [],
   "source": [
    "# Splitting the data into train/validation\n",
    "df_val = df_tmp[df_tmp.saleYear == 2012]\n",
    "df_train = df_tmp[df_tmp.saleYear != 2012]\n",
    "\n",
    "X_train, y_train = df_train.drop(\"SalePrice\", axis=1), df_train[\"SalePrice\"]\n",
    "X_valid, y_valid = df_val.drop(\"SalePrice\", axis=1), df_val[\"SalePrice\"]"
   ]
  },
  {
   "cell_type": "code",
   "execution_count": 17,
   "id": "08844760",
   "metadata": {},
   "outputs": [],
   "source": [
    "from sklearn.metrics import mean_squared_log_error, mean_absolute_error, r2_score\n",
    "\n",
    "def rmsle(y_test: np.array, y_pred: np.array) -> float:\n",
    "    \"\"\"\n",
    "    Calculates Rood Mean Square Log Error between predictions and true labels.\n",
    "    \n",
    "    Arguments:\n",
    "        y_test: The actual true labels\n",
    "        y_pred: The predictions\n",
    "    \n",
    "    Returns:\n",
    "        The RMSLE\n",
    "    \"\"\"\n",
    "    return np.sqrt(mean_squared_log_error(y_test, y_pred))\n",
    "\n",
    "def show_scores(model):\n",
    "    train_preds = model.predict(X_train)\n",
    "    val_preds = model.predict(X_valid)\n",
    "    \n",
    "    scores = {\"Training MAE\": mean_absolute_error(y_train, train_preds),\n",
    "              \"Valid MAE\": mean_absolute_error(y_valid, val_preds),\n",
    "              \"Training RMSLE\": rmsle(y_train, train_preds),\n",
    "              \"Valid RMSLE\": rmsle(y_valid, val_preds),\n",
    "              \"Training R2\": r2_score(y_train, train_preds),\n",
    "              \"Valid R2\": r2_score(y_valid, val_preds)\n",
    "             }\n",
    "    return scores\n"
   ]
  },
  {
   "cell_type": "markdown",
   "id": "94001b25",
   "metadata": {},
   "source": [
    "## Testing our model on a subset"
   ]
  },
  {
   "cell_type": "code",
   "execution_count": 18,
   "id": "28829bbd",
   "metadata": {},
   "outputs": [],
   "source": [
    "# Change max samples values\n",
    "\n",
    "model = RandomForestRegressor(n_jobs=-1, random_state=42, max_samples=10000)"
   ]
  },
  {
   "cell_type": "code",
   "execution_count": 19,
   "id": "e6867e74",
   "metadata": {},
   "outputs": [
    {
     "name": "stdout",
     "output_type": "stream",
     "text": [
      "Wall time: 9.39 s\n"
     ]
    },
    {
     "data": {
      "text/plain": [
       "RandomForestRegressor(max_samples=10000, n_jobs=-1, random_state=42)"
      ]
     },
     "execution_count": 19,
     "metadata": {},
     "output_type": "execute_result"
    }
   ],
   "source": [
    "%%time\n",
    "#Cutting down max samples improves the time this needs to run\n",
    "model.fit(X_train, y_train)"
   ]
  },
  {
   "cell_type": "code",
   "execution_count": 20,
   "id": "ff15801a",
   "metadata": {},
   "outputs": [
    {
     "data": {
      "text/plain": [
       "{'Training MAE': 5561.513057924589,\n",
       " 'Valid MAE': 7155.632784930442,\n",
       " 'Training RMSLE': 0.2578005599357549,\n",
       " 'Valid RMSLE': 0.29223097494391737,\n",
       " 'Training R2': 0.860722898583499,\n",
       " 'Valid R2': 0.832588403039663}"
      ]
     },
     "execution_count": 20,
     "metadata": {},
     "output_type": "execute_result"
    }
   ],
   "source": [
    "show_scores(model)"
   ]
  },
  {
   "cell_type": "markdown",
   "id": "e4e1f2a7",
   "metadata": {},
   "source": [
    "## Hyperparameter tuning and RandomizedSearchCV"
   ]
  },
  {
   "cell_type": "code",
   "execution_count": 21,
   "id": "12e3719d",
   "metadata": {},
   "outputs": [
    {
     "name": "stdout",
     "output_type": "stream",
     "text": [
      "Fitting 5 folds for each of 5 candidates, totalling 25 fits\n",
      "Wall time: 1min 20s\n"
     ]
    },
    {
     "data": {
      "text/plain": [
       "RandomizedSearchCV(cv=5,\n",
       "                   estimator=RandomForestRegressor(n_jobs=-1, random_state=42),\n",
       "                   n_iter=5,\n",
       "                   param_distributions={'max_depth': [None, 3, 5, 10],\n",
       "                                        'max_features': [0.2, 1, 'sqrt',\n",
       "                                                         'auto'],\n",
       "                                        'max_samples': [10000],\n",
       "                                        'min_samples_leaf': array([ 1,  3,  5,  7,  9, 11, 13, 15, 17, 19]),\n",
       "                                        'min_samples_split': array([ 2,  4,  6,  8, 10, 12, 14, 16, 18]),\n",
       "                                        'n_estimators': array([10, 20, 30, 40, 50, 60, 70, 80, 90])},\n",
       "                   verbose=True)"
      ]
     },
     "execution_count": 21,
     "metadata": {},
     "output_type": "execute_result"
    }
   ],
   "source": [
    "%%time\n",
    "\n",
    "from sklearn.model_selection import RandomizedSearchCV\n",
    "\n",
    "rf_grid = { \n",
    "    \"n_estimators\": np.arange(10, 100, 10),\n",
    "    \"max_depth\": [None, 3, 5, 10],\n",
    "    \"min_samples_split\": np.arange(2, 20, 2),\n",
    "    \"min_samples_leaf\": np.arange(1, 20, 2),\n",
    "    \"max_features\": [0.2, 1, \"sqrt\", \"auto\"],\n",
    "    \"max_samples\": [10000]\n",
    "}\n",
    "\n",
    "rs_model = RandomizedSearchCV(RandomForestRegressor(n_jobs=-1, random_state=42), \n",
    "                             param_distributions=rf_grid,\n",
    "                              n_iter=5,\n",
    "                              cv=5,\n",
    "                              verbose=True\n",
    "                             )\n",
    "\n",
    "rs_model.fit(X_train, y_train)"
   ]
  },
  {
   "cell_type": "code",
   "execution_count": 22,
   "id": "fb97af4e",
   "metadata": {},
   "outputs": [
    {
     "name": "stdout",
     "output_type": "stream",
     "text": [
      "{'Training MAE': 6593.974179121005, 'Valid MAE': 7935.73063592583, 'Training RMSLE': 0.29503497129160866, 'Valid RMSLE': 0.3182291893971808, 'Training R2': 0.8116687355408185, 'Valid R2': 0.7934151544311383}\n",
      "{'n_estimators': 20, 'min_samples_split': 14, 'min_samples_leaf': 1, 'max_samples': 10000, 'max_features': 'auto', 'max_depth': 10}\n"
     ]
    }
   ],
   "source": [
    "# Evaluate the Randomized Search model.\n",
    "\n",
    "print(show_scores(rs_model))\n",
    "\n",
    "print(rs_model.best_params_)"
   ]
  },
  {
   "cell_type": "markdown",
   "id": "b36e41c1",
   "metadata": {},
   "source": [
    "## Train a model with the best hyperparameters\n",
    "\n",
    "**Note:** Run with n_iter=100 and run over 2 hours"
   ]
  },
  {
   "cell_type": "code",
   "execution_count": 23,
   "id": "a6e88d81",
   "metadata": {},
   "outputs": [
    {
     "name": "stdout",
     "output_type": "stream",
     "text": [
      "Wall time: 51.8 s\n"
     ]
    },
    {
     "data": {
      "text/plain": [
       "RandomForestRegressor(max_features=0.5, min_samples_split=14, n_estimators=40,\n",
       "                      n_jobs=-1)"
      ]
     },
     "execution_count": 23,
     "metadata": {},
     "output_type": "execute_result"
    }
   ],
   "source": [
    "%%time\n",
    "\n",
    "ideal_model = RandomForestRegressor(n_estimators=40, min_samples_leaf=1, min_samples_split=14, max_features=0.5, n_jobs=-1, max_samples=None)\n",
    "\n",
    "ideal_model.fit(X_train, y_train)\n"
   ]
  },
  {
   "cell_type": "code",
   "execution_count": 24,
   "id": "31f08d67",
   "metadata": {},
   "outputs": [
    {
     "data": {
      "text/plain": [
       "{'Training MAE': 2956.4635059675816,\n",
       " 'Valid MAE': 5961.3368083125015,\n",
       " 'Training RMSLE': 0.14452967992982438,\n",
       " 'Valid RMSLE': 0.2459267262820982,\n",
       " 'Training R2': 0.9587937851486718,\n",
       " 'Valid R2': 0.8818119946014108}"
      ]
     },
     "execution_count": 24,
     "metadata": {},
     "output_type": "execute_result"
    }
   ],
   "source": [
    "show_scores(ideal_model)"
   ]
  },
  {
   "cell_type": "markdown",
   "id": "8639be95",
   "metadata": {},
   "source": [
    "## Make predictions on test data"
   ]
  },
  {
   "cell_type": "code",
   "execution_count": 25,
   "id": "00ba0aad",
   "metadata": {},
   "outputs": [],
   "source": [
    "# import test data\n",
    "\n",
    "df_test = pd.read_csv(\"../resources/bluebook-for-bulldozers/Test.csv\", low_memory=False, parse_dates=[\"saledate\"])"
   ]
  },
  {
   "cell_type": "code",
   "execution_count": 26,
   "id": "f12e32a8",
   "metadata": {},
   "outputs": [],
   "source": [
    "# format data to the same format as the data that we trained the model with.\n",
    "\n",
    "def preprocess_data(df):\n",
    "    \"\"\"Performs transformations on df and returns the transformed dataframe\"\"\"\n",
    "    \n",
    "    df[\"saleYear\"] = df.saledate.dt.year\n",
    "    df[\"saleMonth\"] = df.saledate.dt.month\n",
    "    df[\"saleDay\"] = df.saledate.dt.day\n",
    "    df[\"saleDayOfWeek\"] = df.saledate.dt.dayofweek\n",
    "    df[\"saleDayOfYear\"] = df.saledate.dt.dayofyear\n",
    "    \n",
    "    df.drop(\"saledate\", axis=1, inplace=True)\n",
    "    \n",
    "    \n",
    "    ## fill numeric values\n",
    "    for label, content in df.items():\n",
    "        if pd.api.types.is_numeric_dtype(content):\n",
    "            if pd.isnull(content).sum():\n",
    "                print(label)\n",
    "                df[label + \"_is_missing\"] = pd.isnull(content)\n",
    "                df[label] = content.fillna(content.median())\n",
    "                \n",
    "        ## fill categorical values with category numbers\n",
    "        else:\n",
    "            print(label)\n",
    "            if pd.isnull(content).sum():\n",
    "                df[label + \"_is_missing\"] = pd.isnull(content)\n",
    "            df[label] = pd.Categorical(content).codes + 1\n",
    "    \n",
    "    return df"
   ]
  },
  {
   "cell_type": "code",
   "execution_count": 27,
   "id": "8ff1a0a2",
   "metadata": {},
   "outputs": [
    {
     "name": "stdout",
     "output_type": "stream",
     "text": [
      "MachineHoursCurrentMeter\n",
      "UsageBand\n",
      "fiModelDesc\n",
      "fiBaseModel\n",
      "fiSecondaryDesc\n",
      "fiModelSeries\n",
      "fiModelDescriptor\n",
      "ProductSize\n",
      "fiProductClassDesc\n",
      "state\n",
      "ProductGroup\n",
      "ProductGroupDesc\n",
      "Drive_System\n",
      "Enclosure\n",
      "Forks\n",
      "Pad_Type\n",
      "Ride_Control\n",
      "Stick\n",
      "Transmission\n",
      "Turbocharged\n",
      "Blade_Extension\n",
      "Blade_Width\n",
      "Enclosure_Type\n",
      "Engine_Horsepower\n",
      "Hydraulics\n",
      "Pushblock\n",
      "Ripper\n",
      "Scarifier\n",
      "Tip_Control\n",
      "Tire_Size\n",
      "Coupler\n",
      "Coupler_System\n",
      "Grouser_Tracks\n",
      "Hydraulics_Flow\n",
      "Track_Type\n",
      "Undercarriage_Pad_Width\n",
      "Stick_Length\n",
      "Thumb\n",
      "Pattern_Changer\n",
      "Grouser_Type\n",
      "Backhoe_Mounting\n",
      "Blade_Type\n",
      "Travel_Controls\n",
      "Differential_Type\n",
      "Steering_Controls\n"
     ]
    }
   ],
   "source": [
    "df_test = preprocess_data(df_test)"
   ]
  },
  {
   "cell_type": "code",
   "execution_count": 28,
   "id": "1012c05f",
   "metadata": {},
   "outputs": [
    {
     "name": "stdout",
     "output_type": "stream",
     "text": [
      "(12457, 95) (401125, 97)\n"
     ]
    },
    {
     "data": {
      "text/plain": [
       "{'auctioneerID_is_missing'}"
      ]
     },
     "execution_count": 28,
     "metadata": {},
     "output_type": "execute_result"
    }
   ],
   "source": [
    "print(df_test.shape, df_train.shape)\n",
    "\n",
    "# We can find how the columns differ using sets\n",
    "\n",
    "set(X_train.columns) - set(df_test.columns)"
   ]
  },
  {
   "cell_type": "code",
   "execution_count": 30,
   "id": "445ab6cc",
   "metadata": {},
   "outputs": [],
   "source": [
    "df_test[\"auctioneerID_is_missing\"] = True"
   ]
  },
  {
   "cell_type": "code",
   "execution_count": 31,
   "id": "700bc076",
   "metadata": {},
   "outputs": [
    {
     "name": "stderr",
     "output_type": "stream",
     "text": [
      "C:\\Users\\cos_9\\Anaconda3\\envs\\machine_learning_env\\lib\\site-packages\\sklearn\\base.py:488: FutureWarning: The feature names should match those that were passed during fit. Starting version 1.2, an error will be raised.\n",
      "Feature names must be in the same order as they were in fit.\n",
      "\n",
      "  warnings.warn(message, FutureWarning)\n"
     ]
    }
   ],
   "source": [
    "test_preds = ideal_model.predict(df_test)"
   ]
  },
  {
   "cell_type": "markdown",
   "id": "fe82e09a",
   "metadata": {},
   "source": [
    "## Feature Importance\n",
    "\n",
    "Feature importance seeks to figure out which different attributes of the data were the most important to predicting the sales \n",
    "price of buldozers"
   ]
  },
  {
   "cell_type": "code",
   "execution_count": 32,
   "id": "ef0ab989",
   "metadata": {},
   "outputs": [
    {
     "data": {
      "text/plain": [
       "array([3.24560053e-02, 1.95372700e-02, 4.44794221e-02, 1.65945754e-03,\n",
       "       3.29371769e-03, 2.04102148e-01, 3.04762891e-03, 1.00065312e-03,\n",
       "       3.81611876e-02, 5.17707952e-02, 6.77721784e-02, 4.91169749e-03,\n",
       "       1.83754339e-02, 1.47553126e-01, 4.33506984e-02, 6.03085024e-03,\n",
       "       1.81222095e-03, 2.43455037e-03, 4.57589745e-03, 6.12946969e-02,\n",
       "       2.85868915e-04, 6.93309086e-04, 7.97860208e-04, 1.63191465e-04,\n",
       "       1.02246410e-03, 2.54883376e-05, 1.20468825e-03, 1.23950408e-02,\n",
       "       3.07857260e-04, 1.18173709e-04, 1.87006212e-03, 2.04623862e-03,\n",
       "       3.08554723e-03, 2.34037103e-03, 3.31815205e-04, 9.86630461e-03,\n",
       "       9.81696453e-04, 1.34064712e-02, 1.62138398e-03, 1.18095646e-03,\n",
       "       1.03593867e-03, 7.73452932e-04, 9.33192478e-04, 5.81316098e-04,\n",
       "       4.69370473e-04, 3.52546115e-04, 3.78527863e-04, 2.10202946e-03,\n",
       "       8.11992114e-04, 2.29647263e-04, 3.73895570e-04, 7.26147916e-02,\n",
       "       3.86552546e-03, 5.74417369e-03, 2.88268023e-03, 9.85771054e-03,\n",
       "       2.43269972e-04, 1.68967506e-03, 3.48431740e-04, 2.46865715e-03,\n",
       "       1.34354375e-03, 6.30073777e-03, 3.66885319e-02, 1.43243153e-04,\n",
       "       8.88828972e-06, 2.67646781e-04, 9.48555835e-06, 1.67820348e-04,\n",
       "       1.24140925e-05, 2.20558017e-04, 2.90980630e-05, 8.34702876e-05,\n",
       "       2.33949507e-03, 2.01717836e-03, 3.91157689e-03, 2.13286891e-03,\n",
       "       1.99603050e-03, 2.23734026e-04, 3.88875616e-03, 4.11155666e-04,\n",
       "       5.04213086e-03, 2.09184645e-04, 1.00220596e-02, 1.25002228e-03,\n",
       "       8.40624520e-04, 3.25808836e-05, 7.07551885e-05, 5.17570098e-05,\n",
       "       4.88824987e-05, 4.07300755e-05, 2.48532565e-05, 5.96150500e-04,\n",
       "       1.19572130e-04, 8.00667666e-05, 1.08655935e-04, 1.44491704e-04])"
      ]
     },
     "execution_count": 32,
     "metadata": {},
     "output_type": "execute_result"
    }
   ],
   "source": [
    "ideal_model.feature_importances_"
   ]
  },
  {
   "cell_type": "code",
   "execution_count": 33,
   "id": "dea34316",
   "metadata": {},
   "outputs": [],
   "source": [
    "def plot_features(columns, importances, n=20):\n",
    "    \n",
    "    df = (\n",
    "        pd.DataFrame({\"features\": columns, \"feature_importance\": importances})\n",
    "        .sort_values(by=\"feature_importance\", ascending=False)\n",
    "        .reset_index(drop=True)\n",
    "         )\n",
    "    \n",
    "    # Plot the results\n",
    "    \n",
    "    fig, ax = plt.subplots()\n",
    "    \n",
    "    ax.barh(df[\"features\"][:n], df[\"feature_importance\"][:n])\n",
    "    ax.set_ylabel(\"Features\")\n",
    "    ax.set_xlabel(\"Feature importance\")"
   ]
  },
  {
   "cell_type": "code",
   "execution_count": 35,
   "id": "6d36f40f",
   "metadata": {},
   "outputs": [
    {
     "data": {
      "image/png": "[encoded data removed]",
      "text/plain": [
       "<Figure size 432x288 with 1 Axes>"
      ]
     },
     "metadata": {
      "needs_background": "light"
     },
     "output_type": "display_data"
    }
   ],
   "source": [
    "plot_features(X_train.columns, ideal_model.feature_importances_, 20)"
   ]
  }
 ],
 "metadata": {
  "kernelspec": {
   "display_name": "Python 3",
   "language": "python",
   "name": "python3"
  },
  "language_info": {
   "codemirror_mode": {
    "name": "ipython",
    "version": 3
   },
   "file_extension": ".py",
   "mimetype": "text/x-python",
   "name": "python",
   "nbconvert_exporter": "python",
   "pygments_lexer": "ipython3",
   "version": "3.9.5"
  }
 },
 "nbformat": 4,
 "nbformat_minor": 5
}
